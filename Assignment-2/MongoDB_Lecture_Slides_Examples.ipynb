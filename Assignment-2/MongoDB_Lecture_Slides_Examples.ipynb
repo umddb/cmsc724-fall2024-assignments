{
 "cells": [
  {
   "cell_type": "code",
   "execution_count": 1,
   "id": "ef7fcbf2",
   "metadata": {},
   "outputs": [],
   "source": [
    "import pymongo\n",
    "import bson\n",
    "client = pymongo.MongoClient(\"localhost\", 27017)\n",
    "db = client[\"examples\"]\n",
    "inventory1 = db[\"inventory1\"]\n",
    "zips = client[\"zips\"][\"examples\"]"
   ]
  },
  {
   "cell_type": "code",
   "execution_count": 2,
   "id": "173ac744",
   "metadata": {},
   "outputs": [
    {
     "data": {
      "text/plain": [
       "InsertManyResult([ObjectId('5fb55fad75b4eb537dc3d993'), ObjectId('5fb55fad75b4eb537dc3d994'), ObjectId('5fb55fad75b4eb537dc3d995'), ObjectId('5fb55fad75b4eb537dc3d996'), ObjectId('5fb55fad75b4eb537dc3d997')], acknowledged=True)"
      ]
     },
     "execution_count": 2,
     "metadata": {},
     "output_type": "execute_result"
    }
   ],
   "source": [
    "inventory1_data = [\n",
    "    { \"_id\" : bson.objectid.ObjectId(\"5fb55fad75b4eb537dc3d993\"), \"item\" : \"journal\", \"qty\" : 25, \"size\" : {\"h\" : 14, \"w\" : 21, \"uom\" : \"cm\" }, \"status\" : \"A\"}, \n",
    "    { \"_id\" : bson.objectid.ObjectId(\"5fb55fad75b4eb537dc3d994\"), \"item\" : \"notebook\", \"qty\" : 50, \"size\" : { \"h\" : 8.5, \"w\" : 11, \"uom\" : \"in\" }, \"status\" : \"A\" }, \n",
    "    { \"_id\" : bson.objectid.ObjectId(\"5fb55fad75b4eb537dc3d995\"), \"item\" : \"paper\", \"qty\" : 100, \"size\" : { \"h\" : 8.5, \"w\" : 11, \"uom\" : \"in\" }, \"status\" : \"D\" },\n",
    "    { \"_id\" : bson.objectid.ObjectId(\"5fb55fad75b4eb537dc3d996\"), \"item\" : \"planner\", \"qty\" : 75, \"size\" : { \"h\" : 22.85, \"w\" : 30, \"uom\" : \"cm\" }, \"status\" : \"D\" }, \n",
    "    { \"_id\" : bson.objectid.ObjectId(\"5fb55fad75b4eb537dc3d997\"), \"item\" : \"postcard\", \"qty\" : 45, \"size\" : {\"h\" : 10, \"w\" : 15.25, \"uom\" : \"cm\" }, \"status\" : \"A\" } \n",
    "]\n",
    "inventory1.insert_many(inventory1_data)"
   ]
  },
  {
   "cell_type": "code",
   "execution_count": 3,
   "id": "a241651e",
   "metadata": {},
   "outputs": [
    {
     "data": {
      "text/plain": [
       "[{'_id': ObjectId('5fb55fad75b4eb537dc3d995'),\n",
       "  'item': 'paper',\n",
       "  'qty': 100,\n",
       "  'size': {'h': 8.5, 'w': 11, 'uom': 'in'},\n",
       "  'status': 'D'},\n",
       " {'_id': ObjectId('5fb55fad75b4eb537dc3d996'),\n",
       "  'item': 'planner',\n",
       "  'qty': 75,\n",
       "  'size': {'h': 22.85, 'w': 30, 'uom': 'cm'},\n",
       "  'status': 'D'}]"
      ]
     },
     "execution_count": 3,
     "metadata": {},
     "output_type": "execute_result"
    }
   ],
   "source": [
    "list(inventory1.find({\"status\": \"D\"}))"
   ]
  },
  {
   "cell_type": "code",
   "execution_count": null,
   "id": "2043e940",
   "metadata": {},
   "outputs": [],
   "source": [
    "list(inventory1.find({\"qty\" : {\"$gte\" : 50} }))"
   ]
  },
  {
   "cell_type": "code",
   "execution_count": null,
   "id": "b1aa7d1d",
   "metadata": {},
   "outputs": [],
   "source": [
    "list(inventory1.find({\"status\" : \"D\", \"qty\" : {\"$gte\" : 50} }))"
   ]
  },
  {
   "cell_type": "code",
   "execution_count": null,
   "id": "1a881c27",
   "metadata": {},
   "outputs": [],
   "source": [
    "list(inventory1.find({\"$or\": [{\"status\" : \"D\"}, {\"qty\" : {\"$lt\" : 30}}]}))"
   ]
  },
  {
   "cell_type": "code",
   "execution_count": null,
   "id": "5b70d622",
   "metadata": {},
   "outputs": [],
   "source": [
    "# exact match of nested document, including ordering of fields \n",
    "print(list(inventory1.find( {\"size\": { \"h\": 14, \"w\": 21, \"uom\": \"cm\"}})))\n",
    "print(\"===== Trying a different order of fields within\")\n",
    "print(list(inventory1.find( {\"size\": { \"w\": 21, \"h\": 14, \"uom\": \"cm\" }})))"
   ]
  },
  {
   "cell_type": "code",
   "execution_count": null,
   "id": "2ab93876",
   "metadata": {},
   "outputs": [],
   "source": [
    "# querying a nested field\n",
    "# Note: when using . notation for sub-fields, expression must be in quotes\n",
    "# Also note: binary operator handled via a nested document\n",
    "list(inventory1.find ( { \"size.uom\" : \"cm\", \"size.h\" : {\"$gt\" : 14 }}))"
   ]
  },
  {
   "cell_type": "code",
   "execution_count": null,
   "id": "ae8875e3",
   "metadata": {},
   "outputs": [],
   "source": [
    "inventory2 = db[\"inventory2\"]\n",
    "inventory2.insert_many([\n",
    "{ \"item\": \"journal\", \"instock\": [ { \"loc\": \"A\", \"qty\": 5 }, { \"loc\": \"C\", \"qty\": 15 } ], \"tags\": [\"blank\", \"red\"], \"dim\": [ 14, 21 ] },\n",
    "{ \"item\": \"notebook\", \"instock\": [ { \"loc\": \"C\", \"qty\": 5 } ], \"tags\": [\"red\", \"blank\"] , \"dim\": [ 14, 21 ]},\n",
    "{ \"item\": \"paper\", \"instock\": [ { \"loc\": \"A\", \"qty\": 60 }, { \"loc\": \"B\", \"qty\": 15 } ], \"tags\": [\"red\", \"blank\", \"plain\"] , \"dim\": [14, 21]},\n",
    "{ \"item\": \"planner\", \"instock\": [ { \"loc\": \"A\", \"qty\": 40 }, { \"loc\": \"B\", \"qty\": 5 } ], \"tags\": [\"blank\", \"red\"], \"dim\": [ 22.85, 30 ] },\n",
    "{ \"item\": \"postcard\", \"instock\": [ {\"loc\": \"B\", \"qty\": 15 }, { \"loc\": \"C\", \"qty\": 35 } ], \"tags\": [\"blue\"] , \"dim\": [ 10, 15.25 ]}\n",
    "])"
   ]
  },
  {
   "cell_type": "code",
   "execution_count": null,
   "id": "68354e70",
   "metadata": {},
   "outputs": [],
   "source": [
    "print(\"-----------\")\n",
    "print(\"Exact match of array\")\n",
    "print(list(inventory2.find( { \"tags\": [\"red\", \"blank\"] } )))\n",
    "\n",
    "print(\"-----------\")\n",
    "print(\"If one of the elements matches red...\")\n",
    "print(list(inventory2.find( { \"tags\": \"red\" } )))\n",
    "\n",
    "print(\"-----------\")\n",
    "print(\"If one matches red, one matches plain\")\n",
    "print(list(inventory2.find( { \"tags\": \"red\", \"tags\": \"plain\" } )))\n",
    "\n",
    "print(\"-----------\")\n",
    "print(\"If one element is >15 and another is <20\")\n",
    "print(list(inventory2.find( { \"dim\": { \"$gt\": 15, \"$lt\": 20 } } )))\n",
    "\n",
    "print(\"-----------\")\n",
    "print(\"If a single element is >15 and <20\")\n",
    "print(list(inventory2.find( { \"dim\": {\"$elemMatch\": { \"$gt\": 15, \"$lt\": 20 } } } )))\n",
    "\n",
    "print(\"-----------\")\n",
    "print(\"If second item > 25..\")\n",
    "print(\"Notice again that we use quotes to when using . notation\")\n",
    "print(list(inventory2.find( { \"dim.1\": { \"$gt\": 25 } } )))"
   ]
  },
  {
   "cell_type": "code",
   "execution_count": null,
   "id": "5e200999",
   "metadata": {},
   "outputs": [],
   "source": [
    "# Arrays of Documents\n",
    "print(\"-----------\")\n",
    "print(\"Exact match of document [like nested doc/atomic array case]\")\n",
    "print(list(inventory2.find( { \"instock\": { \"loc\": \"A\", \"qty\": 5 } } )))\n",
    "print(\"-----------\")\n",
    "print(\"One nested doc has >= 20\")\n",
    "print(list(inventory2.find( { \"instock.qty\": { \"$gte\" : 20 } } )))\n",
    "print(\"-----------\")\n",
    "print(\"First nested doc has >= 20\")\n",
    "print(list(inventory2.find( { \"instock.0.qty\": { \"$gte\" : 20 } } )))\n",
    "print(\"-----------\")\n",
    "print(\"One doc has  20 >= qty >10\")\n",
    "print(list(inventory2.find( { \"instock\": { \"$elemMatch\": { \"qty\": { \"$gt\": 10, \"$lte\": 20 } } } } )))\n",
    "print(\"-----------\")\n",
    "print(\"One doc has  20 >= qty, another has qty>10\")\n",
    "print(list(inventory2.find( { \"instock.qty\": { \"$gt\": 10, \"$lte\": 20 } } )))"
   ]
  },
  {
   "cell_type": "code",
   "execution_count": null,
   "id": "836f1b9f",
   "metadata": {},
   "outputs": [],
   "source": [
    "list(inventory2.find({}, {\"item\": 1, \"instock.loc\": 1, \"_id\": 0}))"
   ]
  },
  {
   "cell_type": "code",
   "execution_count": null,
   "id": "de33028f",
   "metadata": {},
   "outputs": [],
   "source": [
    "list(inventory2.find( { } ).limit(1))"
   ]
  },
  {
   "cell_type": "code",
   "execution_count": null,
   "id": "669ec17a",
   "metadata": {},
   "outputs": [],
   "source": [
    "list(zips.find({}).limit(3))"
   ]
  },
  {
   "cell_type": "code",
   "execution_count": null,
   "id": "183ea609",
   "metadata": {},
   "outputs": [],
   "source": [
    "## Find states with population > 15M, sort by decending order\n",
    "list(zips.aggregate( [\n",
    "{ \"$group\": { \"_id\": \"$state\", \"totalPop\": { \"$sum\": \"$pop\" } } },\n",
    "{ \"$match\": { \"totalPop\": { \"$gte\": 15000000 } } },\n",
    "{ \"$sort\" : { \"totalPop\" : -1 } }\n",
    " ] ))"
   ]
  },
  {
   "cell_type": "code",
   "execution_count": null,
   "id": "a9087ef1",
   "metadata": {},
   "outputs": [],
   "source": [
    "## Find average city population per state\n",
    "list(zips.aggregate( [\n",
    "{ \"$group\": { \"_id\": { \"state\": \"$state\", \"city\": \"$city\" }, \"pop\": { \"$sum\": \"$pop\" } } },\n",
    "{ \"$group\": { \"_id\": \"$_id.state\", \"avgCityPop\": { \"$avg\": \"$pop\" } } }\n",
    "] ))\n",
    "\n",
    "#with temp as (\n",
    "#   select state, city, sum(pop) as pop2\n",
    "#    from zips\n",
    "#   group by state, city)\n",
    "#select state, avg(pop2)\n",
    "#from temp\n",
    "#gropu by state;"
   ]
  },
  {
   "cell_type": "code",
   "execution_count": null,
   "id": "584fcf66",
   "metadata": {},
   "outputs": [],
   "source": [
    "## Find, for every state, the biggest city and its population\n",
    "list(zips.aggregate( [ \n",
    "{ \"$group\": { \"_id\": { \"state\": \"$state\", \"city\": \"$city\" }, \"pop\": { \"$sum\": \"$pop\" } } },\n",
    "{ \"$sort\": { \"pop\": -1 } },\n",
    "{ \"$group\": { \"_id\" : \"$_id.state\", \"bigCity\": { \"$first\": \"$_id.city\" }, \"bigPop\": { \"$first\": \"$pop\" } } },\n",
    "{ \"$sort\" : {\"bigPop\" : -1} }\n",
    "] ))"
   ]
  },
  {
   "cell_type": "code",
   "execution_count": null,
   "id": "356a1145",
   "metadata": {},
   "outputs": [],
   "source": [
    "# If we only want to keep the state and city \n",
    "list(zips.aggregate([ \n",
    "{ \"$group\": { \"_id\": { \"state\": \"$state\", \"city\": \"$city\" }, \"pop\": { \"$sum\": \"$pop\" } } },\n",
    "{ \"$sort\": { \"pop\": -1 } },\n",
    "{ \"$group\": { \"_id\" : \"$_id.state\", \"bigCity\": { \"$first\": \"$_id.city\" }, \"bigPop\": { \"$first\": \"$pop\" } } },\n",
    "{ \"$sort\": {\"bigPop\" : -1} },\n",
    "{ \"$project\": {\"bigPop\" : 0} }\n",
    "] ))"
   ]
  },
  {
   "cell_type": "code",
   "execution_count": null,
   "id": "951c72f5",
   "metadata": {},
   "outputs": [],
   "source": [
    "# If we wanted to nest the name of the city and population into a nested doc\n",
    "\n",
    "list(zips.aggregate( [ \n",
    "{ \"$group\": { \"_id\": { \"state\": \"$state\", \"city\": \"$city\" }, \"pop\": { \"$sum\": \"$pop\" } } },\n",
    "{ \"$sort\": { \"pop\": -1 } },\n",
    "{ \"$group\": { \"_id\" : \"$_id.state\", \"bigCity\": { \"$first\": \"$_id.city\" }, \"bigPop\": { \"$first\": \"$pop\" } } },\n",
    "{ \"$sort\" : {\"bigPop\" : -1} },\n",
    "{ \"$project\": { \"_id\" : 0, \"state\" : \"$_id\", \"bigCityDeets\": { \"name\": \"$bigCity\", \"pop\": \"$bigPop\" } } }\n",
    "] ))"
   ]
  },
  {
   "cell_type": "code",
   "execution_count": null,
   "id": "80d817e6",
   "metadata": {},
   "outputs": [],
   "source": [
    "# Unwind expands an array by constructing documents one per element of the array\n",
    "# Somewhat like flatMap in Spark\n",
    "\n",
    "list(inventory2.aggregate( [\n",
    "{ \"$unwind\" : \"$tags\" },\n",
    "{ \"$project\" : {\"_id\" : 0, \"instock\": 0}}\n",
    "] ))"
   ]
  },
  {
   "cell_type": "code",
   "execution_count": null,
   "id": "2db7e912",
   "metadata": {},
   "outputs": [],
   "source": [
    "# Q: Imagine if we want to find sum of qtys across items. How would we do this?\n",
    "# A common recipe in MQL queries is to unwind and then group by\n",
    "\n",
    "list(inventory2.aggregate( [\n",
    "    { \"$unwind\" : \"$instock\" },\n",
    "    { \"$group\" : {\"_id\" : \"$item\", \"totalqty\" : {\"$sum\" : \"$instock.qty\"}}}\n",
    "] ))"
   ]
  },
  {
   "cell_type": "code",
   "execution_count": null,
   "id": "78e8c3da",
   "metadata": {},
   "outputs": [],
   "source": [
    "# Conceptually, for each document,  find documents in other collection that join (equijoin)\n",
    "# local field must match foreign field\n",
    "# place each of them in an array\n",
    "#\n",
    "# Thus, a left outer equi-join, with the join results stored in an array\n",
    "\n",
    "list(inventory2.aggregate( [\n",
    "{ \"$lookup\" : {\"from\" : \"inventory2\", \"localField\": \"instock.loc\", \"foreignField\": \"instock.loc\", \"as\":\"otheritems\"}},\n",
    "{ \"$project\" : {\"_id\" : 0, \"tags\" : 0, \"dim\" : 0}}\n",
    "] ))"
   ]
  },
  {
   "cell_type": "code",
   "execution_count": null,
   "id": "7fced9f4",
   "metadata": {},
   "outputs": [],
   "source": [
    "# Lookup.. after some more projection\n",
    "list(inventory2.aggregate([\n",
    "{\"$lookup\" : {\"from\":\"inventory2\", \"localField\":\"instock.loc\", \"foreignField\":\"instock.loc\", \"as\":\"otheritems\"}},\n",
    "{\"$project\" : {\"_id\" : 0, \"tags\" :0, \"dim\" :0, \"otheritems._id\":0, \"otheritems.tags\":0, \"otheritems.dim\":0, \"otheritems.instock.qty\":0}} ] )\n",
    "    )"
   ]
  },
  {
   "cell_type": "code",
   "execution_count": null,
   "id": "88d183a3",
   "metadata": {},
   "outputs": [],
   "source": [
    "inventory3 = db[\"inventory3\"]\n",
    "inventory3.insert_many([\n",
    "{ \"item\": \"journal\", \"instock\": [ { \"loc\": \"A\", \"qty\": 5 }, { \"loc\": \"C\", \"qty\": 15 } ], \"tags\": [\"blank\", \"red\"], \"dim\": [ 14, 21 ] },\n",
    "{ \"item\": \"notebook\", \"instock\": [ { \"loc\": \"C\", \"qty\": 5 } ], \"tags\": [\"red\", \"blank\"] , \"dim\": [ 14, 21 ]},\n",
    "{ \"item\": \"paper\", \"instock\": [ { \"loc\": \"A\", \"qty\": 60 }, { \"loc\": \"B\", \"qty\": 15 } ], \"tags\": [\"red\", \"blank\", \"plain\"] , \"dim\": [14, 21]},\n",
    "{ \"item\": \"planner\", \"instock\": [ { \"loc\": \"A\", \"qty\": 40 }, { \"loc\": \"B\", \"qty\": 5 } ], \"tags\": [\"blank\", \"red\"], \"dim\": [ 22.85, 30 ] },\n",
    "{ \"item\": \"postcard\", \"instock\": [ {\"loc\": \"B\", \"qty\": 15 }, { \"loc\": \"C\", \"qty\": 35 } ], \"tags\": [\"blue\"] , \"dim\": [ 10, 15.25 ]},\n",
    "{ \"item\": \"postcard2\", \"instock\": [ {\"loc\": \"B\", \"qty\": 15 }, { \"loc\": \"C\", \"qty\": 35 } ], \"tags\": [] , \"dim\": [ 10, 15.25 ]},\n",
    "{ \"item\": \"postcard3\", \"instock\": [ {\"loc\": \"B\", \"qty\": 15 }, { \"loc\": \"C\", \"qty\": 35 } ], \"dim\": [ 10, 15.25 ]}\n",
    "])\n",
    "\n",
    "list(inventory3.aggregate( [\n",
    "{ \"$unwind\" : \"$tags\" },\n",
    "{ \"$project\" : {\"_id\" : 0, \"instock\": 0}}\n",
    "] ))"
   ]
  },
  {
   "cell_type": "code",
   "execution_count": null,
   "id": "f4598559",
   "metadata": {},
   "outputs": [],
   "source": [
    "list(inventory3.find({}))"
   ]
  },
  {
   "cell_type": "code",
   "execution_count": null,
   "id": "5d8a6949",
   "metadata": {},
   "outputs": [],
   "source": [
    "inventory2 = db[\"inventory2\"]\n",
    "\n",
    "list(inventory2.find({}))"
   ]
  },
  {
   "cell_type": "code",
   "execution_count": null,
   "id": "5917ebf4",
   "metadata": {},
   "outputs": [],
   "source": []
  }
 ],
 "metadata": {
  "kernelspec": {
   "display_name": "Python 3 (ipykernel)",
   "language": "python",
   "name": "python3"
  },
  "language_info": {
   "codemirror_mode": {
    "name": "ipython",
    "version": 3
   },
   "file_extension": ".py",
   "mimetype": "text/x-python",
   "name": "python",
   "nbconvert_exporter": "python",
   "pygments_lexer": "ipython3",
   "version": "3.10.12"
  }
 },
 "nbformat": 4,
 "nbformat_minor": 5
}
