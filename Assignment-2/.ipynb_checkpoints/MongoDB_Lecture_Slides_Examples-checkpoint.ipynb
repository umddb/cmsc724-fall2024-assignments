{
 "cells": [
  {
   "cell_type": "code",
   "execution_count": 1,
   "id": "ef7fcbf2",
   "metadata": {},
   "outputs": [],
   "source": [
    "import pymongo\n",
    "import bson\n",
    "client = pymongo.MongoClient(\"localhost\", 27017)\n",
    "db = client[\"examples\"]\n",
    "inventory1 = db[\"inventory1\"]\n",
    "zips = client[\"zips\"][\"examples\"]"
   ]
  },
  {
   "cell_type": "code",
   "execution_count": 2,
   "id": "173ac744",
   "metadata": {},
   "outputs": [
    {
     "data": {
      "text/plain": [
       "<pymongo.results.InsertManyResult at 0x7f7b7cf77fa0>"
      ]
     },
     "execution_count": 2,
     "metadata": {},
     "output_type": "execute_result"
    }
   ],
   "source": [
    "inventory1_data = [\n",
    "    { \"_id\" : bson.objectid.ObjectId(\"5fb55fad75b4eb537dc3d993\"), \"item\" : \"journal\", \"qty\" : 25, \"size\" : {\"h\" : 14, \"w\" : 21, \"uom\" : \"cm\" }, \"status\" : \"A\"}, \n",
    "    { \"_id\" : bson.objectid.ObjectId(\"5fb55fad75b4eb537dc3d994\"), \"item\" : \"notebook\", \"qty\" : 50, \"size\" : { \"h\" : 8.5, \"w\" : 11, \"uom\" : \"in\" }, \"status\" : \"A\" }, \n",
    "    { \"_id\" : bson.objectid.ObjectId(\"5fb55fad75b4eb537dc3d995\"), \"item\" : \"paper\", \"qty\" : 100, \"size\" : { \"h\" : 8.5, \"w\" : 11, \"uom\" : \"in\" }, \"status\" : \"D\" },\n",
    "    { \"_id\" : bson.objectid.ObjectId(\"5fb55fad75b4eb537dc3d996\"), \"item\" : \"planner\", \"qty\" : 75, \"size\" : { \"h\" : 22.85, \"w\" : 30, \"uom\" : \"cm\" }, \"status\" : \"D\" }, \n",
    "    { \"_id\" : bson.objectid.ObjectId(\"5fb55fad75b4eb537dc3d997\"), \"item\" : \"postcard\", \"qty\" : 45, \"size\" : {\"h\" : 10, \"w\" : 15.25, \"uom\" : \"cm\" }, \"status\" : \"A\" } \n",
    "]\n",
    "inventory1.insert_many(inventory1_data)"
   ]
  },
  {
   "cell_type": "code",
   "execution_count": 3,
   "id": "a241651e",
   "metadata": {},
   "outputs": [
    {
     "data": {
      "text/plain": [
       "[{'_id': ObjectId('5fb55fad75b4eb537dc3d995'),\n",
       "  'item': 'paper',\n",
       "  'qty': 100,\n",
       "  'size': {'h': 8.5, 'w': 11, 'uom': 'in'},\n",
       "  'status': 'D'},\n",
       " {'_id': ObjectId('5fb55fad75b4eb537dc3d996'),\n",
       "  'item': 'planner',\n",
       "  'qty': 75,\n",
       "  'size': {'h': 22.85, 'w': 30, 'uom': 'cm'},\n",
       "  'status': 'D'}]"
      ]
     },
     "execution_count": 3,
     "metadata": {},
     "output_type": "execute_result"
    }
   ],
   "source": [
    "list(inventory1.find({\"status\": \"D\"}))"
   ]
  },
  {
   "cell_type": "code",
   "execution_count": 4,
   "id": "2043e940",
   "metadata": {},
   "outputs": [
    {
     "data": {
      "text/plain": [
       "[{'_id': ObjectId('5fb55fad75b4eb537dc3d994'),\n",
       "  'item': 'notebook',\n",
       "  'qty': 50,\n",
       "  'size': {'h': 8.5, 'w': 11, 'uom': 'in'},\n",
       "  'status': 'A'},\n",
       " {'_id': ObjectId('5fb55fad75b4eb537dc3d995'),\n",
       "  'item': 'paper',\n",
       "  'qty': 100,\n",
       "  'size': {'h': 8.5, 'w': 11, 'uom': 'in'},\n",
       "  'status': 'D'},\n",
       " {'_id': ObjectId('5fb55fad75b4eb537dc3d996'),\n",
       "  'item': 'planner',\n",
       "  'qty': 75,\n",
       "  'size': {'h': 22.85, 'w': 30, 'uom': 'cm'},\n",
       "  'status': 'D'}]"
      ]
     },
     "execution_count": 4,
     "metadata": {},
     "output_type": "execute_result"
    }
   ],
   "source": [
    "list(inventory1.find({\"qty\" : {\"$gte\" : 50} }))"
   ]
  },
  {
   "cell_type": "code",
   "execution_count": 5,
   "id": "b1aa7d1d",
   "metadata": {},
   "outputs": [
    {
     "data": {
      "text/plain": [
       "[{'_id': ObjectId('5fb55fad75b4eb537dc3d995'),\n",
       "  'item': 'paper',\n",
       "  'qty': 100,\n",
       "  'size': {'h': 8.5, 'w': 11, 'uom': 'in'},\n",
       "  'status': 'D'},\n",
       " {'_id': ObjectId('5fb55fad75b4eb537dc3d996'),\n",
       "  'item': 'planner',\n",
       "  'qty': 75,\n",
       "  'size': {'h': 22.85, 'w': 30, 'uom': 'cm'},\n",
       "  'status': 'D'}]"
      ]
     },
     "execution_count": 5,
     "metadata": {},
     "output_type": "execute_result"
    }
   ],
   "source": [
    "list(inventory1.find({\"status\" : \"D\", \"qty\" : {\"$gte\" : 50} }))"
   ]
  },
  {
   "cell_type": "code",
   "execution_count": 6,
   "id": "1a881c27",
   "metadata": {},
   "outputs": [
    {
     "data": {
      "text/plain": [
       "[{'_id': ObjectId('5fb55fad75b4eb537dc3d993'),\n",
       "  'item': 'journal',\n",
       "  'qty': 25,\n",
       "  'size': {'h': 14, 'w': 21, 'uom': 'cm'},\n",
       "  'status': 'A'},\n",
       " {'_id': ObjectId('5fb55fad75b4eb537dc3d995'),\n",
       "  'item': 'paper',\n",
       "  'qty': 100,\n",
       "  'size': {'h': 8.5, 'w': 11, 'uom': 'in'},\n",
       "  'status': 'D'},\n",
       " {'_id': ObjectId('5fb55fad75b4eb537dc3d996'),\n",
       "  'item': 'planner',\n",
       "  'qty': 75,\n",
       "  'size': {'h': 22.85, 'w': 30, 'uom': 'cm'},\n",
       "  'status': 'D'}]"
      ]
     },
     "execution_count": 6,
     "metadata": {},
     "output_type": "execute_result"
    }
   ],
   "source": [
    "list(inventory1.find({\"$or\": [{\"status\" : \"D\"}, {\"qty\" : {\"$lt\" : 30}}]}))"
   ]
  },
  {
   "cell_type": "code",
   "execution_count": 7,
   "id": "5b70d622",
   "metadata": {},
   "outputs": [
    {
     "name": "stdout",
     "output_type": "stream",
     "text": [
      "[{'_id': ObjectId('5fb55fad75b4eb537dc3d993'), 'item': 'journal', 'qty': 25, 'size': {'h': 14, 'w': 21, 'uom': 'cm'}, 'status': 'A'}]\n",
      "===== Trying a different order of fields within\n",
      "[]\n"
     ]
    }
   ],
   "source": [
    "# exact match of nested document, including ordering of fields \n",
    "print(list(inventory1.find( {\"size\": { \"h\": 14, \"w\": 21, \"uom\": \"cm\"}})))\n",
    "print(\"===== Trying a different order of fields within\")\n",
    "print(list(inventory1.find( {\"size\": { \"w\": 21, \"h\": 14, \"uom\": \"cm\" }})))"
   ]
  },
  {
   "cell_type": "code",
   "execution_count": 8,
   "id": "2ab93876",
   "metadata": {},
   "outputs": [
    {
     "data": {
      "text/plain": [
       "[{'_id': ObjectId('5fb55fad75b4eb537dc3d996'),\n",
       "  'item': 'planner',\n",
       "  'qty': 75,\n",
       "  'size': {'h': 22.85, 'w': 30, 'uom': 'cm'},\n",
       "  'status': 'D'}]"
      ]
     },
     "execution_count": 8,
     "metadata": {},
     "output_type": "execute_result"
    }
   ],
   "source": [
    "# querying a nested field\n",
    "# Note: when using . notation for sub-fields, expression must be in quotes\n",
    "# Also note: binary operator handled via a nested document\n",
    "list(inventory1.find ( { \"size.uom\" : \"cm\", \"size.h\" : {\"$gt\" : 14 }}))"
   ]
  },
  {
   "cell_type": "code",
   "execution_count": 9,
   "id": "ae8875e3",
   "metadata": {},
   "outputs": [
    {
     "data": {
      "text/plain": [
       "<pymongo.results.InsertManyResult at 0x7f7b7cf6c610>"
      ]
     },
     "execution_count": 9,
     "metadata": {},
     "output_type": "execute_result"
    }
   ],
   "source": [
    "inventory2 = db[\"inventory2\"]\n",
    "inventory2.insert_many([\n",
    "{ \"item\": \"journal\", \"instock\": [ { \"loc\": \"A\", \"qty\": 5 }, { \"loc\": \"C\", \"qty\": 15 } ], \"tags\": [\"blank\", \"red\"], \"dim\": [ 14, 21 ] },\n",
    "{ \"item\": \"notebook\", \"instock\": [ { \"loc\": \"C\", \"qty\": 5 } ], \"tags\": [\"red\", \"blank\"] , \"dim\": [ 14, 21 ]},\n",
    "{ \"item\": \"paper\", \"instock\": [ { \"loc\": \"A\", \"qty\": 60 }, { \"loc\": \"B\", \"qty\": 15 } ], \"tags\": [\"red\", \"blank\", \"plain\"] , \"dim\": [14, 21]},\n",
    "{ \"item\": \"planner\", \"instock\": [ { \"loc\": \"A\", \"qty\": 40 }, { \"loc\": \"B\", \"qty\": 5 } ], \"tags\": [\"blank\", \"red\"], \"dim\": [ 22.85, 30 ] },\n",
    "{ \"item\": \"postcard\", \"instock\": [ {\"loc\": \"B\", \"qty\": 15 }, { \"loc\": \"C\", \"qty\": 35 } ], \"tags\": [\"blue\"] , \"dim\": [ 10, 15.25 ]}\n",
    "])"
   ]
  },
  {
   "cell_type": "code",
   "execution_count": 10,
   "id": "68354e70",
   "metadata": {},
   "outputs": [
    {
     "name": "stdout",
     "output_type": "stream",
     "text": [
      "-----------\n",
      "Exact match of array\n",
      "[{'_id': ObjectId('636d800fde3017bb41a31711'), 'item': 'notebook', 'instock': [{'loc': 'C', 'qty': 5}], 'tags': ['red', 'blank'], 'dim': [14, 21]}]\n",
      "-----------\n",
      "If one of the elements matches red...\n",
      "[{'_id': ObjectId('636d800fde3017bb41a31710'), 'item': 'journal', 'instock': [{'loc': 'A', 'qty': 5}, {'loc': 'C', 'qty': 15}], 'tags': ['blank', 'red'], 'dim': [14, 21]}, {'_id': ObjectId('636d800fde3017bb41a31711'), 'item': 'notebook', 'instock': [{'loc': 'C', 'qty': 5}], 'tags': ['red', 'blank'], 'dim': [14, 21]}, {'_id': ObjectId('636d800fde3017bb41a31712'), 'item': 'paper', 'instock': [{'loc': 'A', 'qty': 60}, {'loc': 'B', 'qty': 15}], 'tags': ['red', 'blank', 'plain'], 'dim': [14, 21]}, {'_id': ObjectId('636d800fde3017bb41a31713'), 'item': 'planner', 'instock': [{'loc': 'A', 'qty': 40}, {'loc': 'B', 'qty': 5}], 'tags': ['blank', 'red'], 'dim': [22.85, 30]}]\n",
      "-----------\n",
      "If one matches red, one matches plain\n",
      "[{'_id': ObjectId('636d800fde3017bb41a31712'), 'item': 'paper', 'instock': [{'loc': 'A', 'qty': 60}, {'loc': 'B', 'qty': 15}], 'tags': ['red', 'blank', 'plain'], 'dim': [14, 21]}]\n",
      "-----------\n",
      "If one element is >15 and another is <20\n",
      "[{'_id': ObjectId('636d800fde3017bb41a31710'), 'item': 'journal', 'instock': [{'loc': 'A', 'qty': 5}, {'loc': 'C', 'qty': 15}], 'tags': ['blank', 'red'], 'dim': [14, 21]}, {'_id': ObjectId('636d800fde3017bb41a31711'), 'item': 'notebook', 'instock': [{'loc': 'C', 'qty': 5}], 'tags': ['red', 'blank'], 'dim': [14, 21]}, {'_id': ObjectId('636d800fde3017bb41a31712'), 'item': 'paper', 'instock': [{'loc': 'A', 'qty': 60}, {'loc': 'B', 'qty': 15}], 'tags': ['red', 'blank', 'plain'], 'dim': [14, 21]}, {'_id': ObjectId('636d800fde3017bb41a31714'), 'item': 'postcard', 'instock': [{'loc': 'B', 'qty': 15}, {'loc': 'C', 'qty': 35}], 'tags': ['blue'], 'dim': [10, 15.25]}]\n",
      "-----------\n",
      "If a single element is >15 and <20\n",
      "[{'_id': ObjectId('636d800fde3017bb41a31714'), 'item': 'postcard', 'instock': [{'loc': 'B', 'qty': 15}, {'loc': 'C', 'qty': 35}], 'tags': ['blue'], 'dim': [10, 15.25]}]\n",
      "-----------\n",
      "If second item > 25..\n",
      "Notice again that we use quotes to when using . notation\n",
      "[{'_id': ObjectId('636d800fde3017bb41a31713'), 'item': 'planner', 'instock': [{'loc': 'A', 'qty': 40}, {'loc': 'B', 'qty': 5}], 'tags': ['blank', 'red'], 'dim': [22.85, 30]}]\n"
     ]
    }
   ],
   "source": [
    "print(\"-----------\")\n",
    "print(\"Exact match of array\")\n",
    "print(list(inventory2.find( { \"tags\": [\"red\", \"blank\"] } )))\n",
    "\n",
    "print(\"-----------\")\n",
    "print(\"If one of the elements matches red...\")\n",
    "print(list(inventory2.find( { \"tags\": \"red\" } )))\n",
    "\n",
    "print(\"-----------\")\n",
    "print(\"If one matches red, one matches plain\")\n",
    "print(list(inventory2.find( { \"tags\": \"red\", \"tags\": \"plain\" } )))\n",
    "\n",
    "print(\"-----------\")\n",
    "print(\"If one element is >15 and another is <20\")\n",
    "print(list(inventory2.find( { \"dim\": { \"$gt\": 15, \"$lt\": 20 } } )))\n",
    "\n",
    "print(\"-----------\")\n",
    "print(\"If a single element is >15 and <20\")\n",
    "print(list(inventory2.find( { \"dim\": {\"$elemMatch\": { \"$gt\": 15, \"$lt\": 20 } } } )))\n",
    "\n",
    "print(\"-----------\")\n",
    "print(\"If second item > 25..\")\n",
    "print(\"Notice again that we use quotes to when using . notation\")\n",
    "print(list(inventory2.find( { \"dim.1\": { \"$gt\": 25 } } )))"
   ]
  },
  {
   "cell_type": "code",
   "execution_count": 11,
   "id": "5e200999",
   "metadata": {},
   "outputs": [
    {
     "name": "stdout",
     "output_type": "stream",
     "text": [
      "-----------\n",
      "Exact match of document [like nested doc/atomic array case]\n",
      "[{'_id': ObjectId('636d800fde3017bb41a31710'), 'item': 'journal', 'instock': [{'loc': 'A', 'qty': 5}, {'loc': 'C', 'qty': 15}], 'tags': ['blank', 'red'], 'dim': [14, 21]}]\n",
      "-----------\n",
      "One nested doc has >= 20\n",
      "[{'_id': ObjectId('636d800fde3017bb41a31712'), 'item': 'paper', 'instock': [{'loc': 'A', 'qty': 60}, {'loc': 'B', 'qty': 15}], 'tags': ['red', 'blank', 'plain'], 'dim': [14, 21]}, {'_id': ObjectId('636d800fde3017bb41a31713'), 'item': 'planner', 'instock': [{'loc': 'A', 'qty': 40}, {'loc': 'B', 'qty': 5}], 'tags': ['blank', 'red'], 'dim': [22.85, 30]}, {'_id': ObjectId('636d800fde3017bb41a31714'), 'item': 'postcard', 'instock': [{'loc': 'B', 'qty': 15}, {'loc': 'C', 'qty': 35}], 'tags': ['blue'], 'dim': [10, 15.25]}]\n",
      "-----------\n",
      "First nested doc has >= 20\n",
      "[{'_id': ObjectId('636d800fde3017bb41a31712'), 'item': 'paper', 'instock': [{'loc': 'A', 'qty': 60}, {'loc': 'B', 'qty': 15}], 'tags': ['red', 'blank', 'plain'], 'dim': [14, 21]}, {'_id': ObjectId('636d800fde3017bb41a31713'), 'item': 'planner', 'instock': [{'loc': 'A', 'qty': 40}, {'loc': 'B', 'qty': 5}], 'tags': ['blank', 'red'], 'dim': [22.85, 30]}]\n",
      "-----------\n",
      "One doc has  20 >= qty >10\n",
      "[{'_id': ObjectId('636d800fde3017bb41a31710'), 'item': 'journal', 'instock': [{'loc': 'A', 'qty': 5}, {'loc': 'C', 'qty': 15}], 'tags': ['blank', 'red'], 'dim': [14, 21]}, {'_id': ObjectId('636d800fde3017bb41a31712'), 'item': 'paper', 'instock': [{'loc': 'A', 'qty': 60}, {'loc': 'B', 'qty': 15}], 'tags': ['red', 'blank', 'plain'], 'dim': [14, 21]}, {'_id': ObjectId('636d800fde3017bb41a31714'), 'item': 'postcard', 'instock': [{'loc': 'B', 'qty': 15}, {'loc': 'C', 'qty': 35}], 'tags': ['blue'], 'dim': [10, 15.25]}]\n",
      "-----------\n",
      "One doc has  20 >= qty, another has qty>10\n",
      "[{'_id': ObjectId('636d800fde3017bb41a31710'), 'item': 'journal', 'instock': [{'loc': 'A', 'qty': 5}, {'loc': 'C', 'qty': 15}], 'tags': ['blank', 'red'], 'dim': [14, 21]}, {'_id': ObjectId('636d800fde3017bb41a31712'), 'item': 'paper', 'instock': [{'loc': 'A', 'qty': 60}, {'loc': 'B', 'qty': 15}], 'tags': ['red', 'blank', 'plain'], 'dim': [14, 21]}, {'_id': ObjectId('636d800fde3017bb41a31713'), 'item': 'planner', 'instock': [{'loc': 'A', 'qty': 40}, {'loc': 'B', 'qty': 5}], 'tags': ['blank', 'red'], 'dim': [22.85, 30]}, {'_id': ObjectId('636d800fde3017bb41a31714'), 'item': 'postcard', 'instock': [{'loc': 'B', 'qty': 15}, {'loc': 'C', 'qty': 35}], 'tags': ['blue'], 'dim': [10, 15.25]}]\n"
     ]
    }
   ],
   "source": [
    "# Arrays of Documents\n",
    "print(\"-----------\")\n",
    "print(\"Exact match of document [like nested doc/atomic array case]\")\n",
    "print(list(inventory2.find( { \"instock\": { \"loc\": \"A\", \"qty\": 5 } } )))\n",
    "print(\"-----------\")\n",
    "print(\"One nested doc has >= 20\")\n",
    "print(list(inventory2.find( { \"instock.qty\": { \"$gte\" : 20 } } )))\n",
    "print(\"-----------\")\n",
    "print(\"First nested doc has >= 20\")\n",
    "print(list(inventory2.find( { \"instock.0.qty\": { \"$gte\" : 20 } } )))\n",
    "print(\"-----------\")\n",
    "print(\"One doc has  20 >= qty >10\")\n",
    "print(list(inventory2.find( { \"instock\": { \"$elemMatch\": { \"qty\": { \"$gt\": 10, \"$lte\": 20 } } } } )))\n",
    "print(\"-----------\")\n",
    "print(\"One doc has  20 >= qty, another has qty>10\")\n",
    "print(list(inventory2.find( { \"instock.qty\": { \"$gt\": 10, \"$lte\": 20 } } )))"
   ]
  },
  {
   "cell_type": "code",
   "execution_count": 12,
   "id": "836f1b9f",
   "metadata": {},
   "outputs": [
    {
     "data": {
      "text/plain": [
       "[{'item': 'journal', 'instock': [{'loc': 'A'}, {'loc': 'C'}]},\n",
       " {'item': 'notebook', 'instock': [{'loc': 'C'}]},\n",
       " {'item': 'paper', 'instock': [{'loc': 'A'}, {'loc': 'B'}]},\n",
       " {'item': 'planner', 'instock': [{'loc': 'A'}, {'loc': 'B'}]},\n",
       " {'item': 'postcard', 'instock': [{'loc': 'B'}, {'loc': 'C'}]}]"
      ]
     },
     "execution_count": 12,
     "metadata": {},
     "output_type": "execute_result"
    }
   ],
   "source": [
    "list(inventory2.find({}, {\"item\": 1, \"instock.loc\": 1, \"_id\": 0}))"
   ]
  },
  {
   "cell_type": "code",
   "execution_count": 13,
   "id": "de33028f",
   "metadata": {},
   "outputs": [
    {
     "data": {
      "text/plain": [
       "[{'_id': ObjectId('636d800fde3017bb41a31710'),\n",
       "  'item': 'journal',\n",
       "  'instock': [{'loc': 'A', 'qty': 5}, {'loc': 'C', 'qty': 15}],\n",
       "  'tags': ['blank', 'red'],\n",
       "  'dim': [14, 21]}]"
      ]
     },
     "execution_count": 13,
     "metadata": {},
     "output_type": "execute_result"
    }
   ],
   "source": [
    "list(inventory2.find( { } ).limit(1))"
   ]
  },
  {
   "cell_type": "code",
   "execution_count": 14,
   "id": "669ec17a",
   "metadata": {},
   "outputs": [
    {
     "data": {
      "text/plain": [
       "[{'_id': '01001',\n",
       "  'city': 'AGAWAM',\n",
       "  'loc': [-72.622739, 42.070206],\n",
       "  'pop': 15338,\n",
       "  'state': 'MA'},\n",
       " {'_id': '01008',\n",
       "  'city': 'BLANDFORD',\n",
       "  'loc': [-72.936114, 42.182949],\n",
       "  'pop': 1240,\n",
       "  'state': 'MA'},\n",
       " {'_id': '01002',\n",
       "  'city': 'CUSHMAN',\n",
       "  'loc': [-72.51565, 42.377017],\n",
       "  'pop': 36963,\n",
       "  'state': 'MA'}]"
      ]
     },
     "execution_count": 14,
     "metadata": {},
     "output_type": "execute_result"
    }
   ],
   "source": [
    "list(zips.find({}).limit(3))"
   ]
  },
  {
   "cell_type": "code",
   "execution_count": 15,
   "id": "183ea609",
   "metadata": {},
   "outputs": [
    {
     "data": {
      "text/plain": [
       "[{'_id': 'CA', 'totalPop': 29754890},\n",
       " {'_id': 'NY', 'totalPop': 17990402},\n",
       " {'_id': 'TX', 'totalPop': 16984601}]"
      ]
     },
     "execution_count": 15,
     "metadata": {},
     "output_type": "execute_result"
    }
   ],
   "source": [
    "## Find states with population > 15M, sort by decending order\n",
    "list(zips.aggregate( [\n",
    "{ \"$group\": { \"_id\": \"$state\", \"totalPop\": { \"$sum\": \"$pop\" } } },\n",
    "{ \"$match\": { \"totalPop\": { \"$gte\": 15000000 } } },\n",
    "{ \"$sort\" : { \"totalPop\" : -1 } }\n",
    " ] ))"
   ]
  },
  {
   "cell_type": "code",
   "execution_count": 16,
   "id": "a9087ef1",
   "metadata": {},
   "outputs": [
    {
     "data": {
      "text/plain": [
       "[{'_id': 'UT', 'avgCityPop': 9518.508287292818},\n",
       " {'_id': 'AR', 'avgCityPop': 4175.355239786856},\n",
       " {'_id': 'HI', 'avgCityPop': 15831.842857142858},\n",
       " {'_id': 'NY', 'avgCityPop': 13131.680291970803},\n",
       " {'_id': 'ME', 'avgCityPop': 3006.4901960784314},\n",
       " {'_id': 'OK', 'avgCityPop': 6155.743639921722},\n",
       " {'_id': 'NV', 'avgCityPop': 18209.590909090908},\n",
       " {'_id': 'NM', 'avgCityPop': 5872.360465116279},\n",
       " {'_id': 'MO', 'avgCityPop': 5672.195338512764},\n",
       " {'_id': 'VT', 'avgCityPop': 2315.8765432098767},\n",
       " {'_id': 'SD', 'avgCityPop': 1839.6746031746031},\n",
       " {'_id': 'IN', 'avgCityPop': 9271.130434782608},\n",
       " {'_id': 'VA', 'avgCityPop': 8526.177931034483},\n",
       " {'_id': 'TX', 'avgCityPop': 13775.02108678021},\n",
       " {'_id': 'NC', 'avgCityPop': 10622.815705128205},\n",
       " {'_id': 'OH', 'avgCityPop': 12700.839578454332},\n",
       " {'_id': 'CA', 'avgCityPop': 27756.42723880597},\n",
       " {'_id': 'WA', 'avgCityPop': 12258.670025188916},\n",
       " {'_id': 'CT', 'avgCityPop': 14674.625},\n",
       " {'_id': 'MA', 'avgCityPop': 14855.37037037037},\n",
       " {'_id': 'FL', 'avgCityPop': 27400.958963282937},\n",
       " {'_id': 'RI', 'avgCityPop': 19292.653846153848},\n",
       " {'_id': 'KY', 'avgCityPop': 4767.164721141375},\n",
       " {'_id': 'AL', 'avgCityPop': 7907.2152641878665},\n",
       " {'_id': 'TN', 'avgCityPop': 9656.350495049504},\n",
       " {'_id': 'IA', 'avgCityPop': 3123.0821147356583},\n",
       " {'_id': 'NH', 'avgCityPop': 5232.320754716981},\n",
       " {'_id': 'MN', 'avgCityPop': 5372.21375921376},\n",
       " {'_id': 'AZ', 'avgCityPop': 20591.16853932584},\n",
       " {'_id': 'WV', 'avgCityPop': 2771.4775888717154},\n",
       " {'_id': 'MI', 'avgCityPop': 12087.512353706112},\n",
       " {'_id': 'KS', 'avgCityPop': 3819.884259259259},\n",
       " {'_id': 'CO', 'avgCityPop': 9981.075757575758},\n",
       " {'_id': 'DE', 'avgCityPop': 14481.91304347826},\n",
       " {'_id': 'AK', 'avgCityPop': 2976.4918032786886},\n",
       " {'_id': 'DC', 'avgCityPop': 303450.0},\n",
       " {'_id': 'SC', 'avgCityPop': 11139.626198083068},\n",
       " {'_id': 'MS', 'avgCityPop': 7524.023391812865},\n",
       " {'_id': 'ND', 'avgCityPop': 1645.0309278350514},\n",
       " {'_id': 'IL', 'avgCityPop': 9954.334494773519},\n",
       " {'_id': 'GA', 'avgCityPop': 11547.62210338681},\n",
       " {'_id': 'MT', 'avgCityPop': 2593.987012987013},\n",
       " {'_id': 'ID', 'avgCityPop': 4320.811158798283},\n",
       " {'_id': 'LA', 'avgCityPop': 10465.496277915632},\n",
       " {'_id': 'NE', 'avgCityPop': 3034.882692307692},\n",
       " {'_id': 'NJ', 'avgCityPop': 15775.89387755102},\n",
       " {'_id': 'WY', 'avgCityPop': 3384.5373134328356},\n",
       " {'_id': 'PA', 'avgCityPop': 8679.067202337472},\n",
       " {'_id': 'WI', 'avgCityPop': 7323.00748502994},\n",
       " {'_id': 'MD', 'avgCityPop': 12615.775725593667},\n",
       " {'_id': 'OR', 'avgCityPop': 8262.561046511628}]"
      ]
     },
     "execution_count": 16,
     "metadata": {},
     "output_type": "execute_result"
    }
   ],
   "source": [
    "## Find average city population per state\n",
    "list(zips.aggregate( [\n",
    "{ \"$group\": { \"_id\": { \"state\": \"$state\", \"city\": \"$city\" }, \"pop\": { \"$sum\": \"$pop\" } } },\n",
    "{ \"$group\": { \"_id\": \"$_id.state\", \"avgCityPop\": { \"$avg\": \"$pop\" } } }\n",
    "] ))\n",
    "\n",
    "#with temp as (\n",
    "#   select state, city, sum(pop) as pop2\n",
    "#    from zips\n",
    "#   group by state, city)\n",
    "#select state, avg(pop2)\n",
    "#from temp\n",
    "#gropu by state;"
   ]
  },
  {
   "cell_type": "code",
   "execution_count": 17,
   "id": "584fcf66",
   "metadata": {},
   "outputs": [
    {
     "data": {
      "text/plain": [
       "[{'_id': 'IL', 'bigCity': 'CHICAGO', 'bigPop': 2452177},\n",
       " {'_id': 'NY', 'bigCity': 'BROOKLYN', 'bigPop': 2300504},\n",
       " {'_id': 'CA', 'bigCity': 'LOS ANGELES', 'bigPop': 2102295},\n",
       " {'_id': 'TX', 'bigCity': 'HOUSTON', 'bigPop': 2095918},\n",
       " {'_id': 'PA', 'bigCity': 'PHILADELPHIA', 'bigPop': 1610956},\n",
       " {'_id': 'MI', 'bigCity': 'DETROIT', 'bigPop': 963243},\n",
       " {'_id': 'AZ', 'bigCity': 'PHOENIX', 'bigPop': 890853},\n",
       " {'_id': 'FL', 'bigCity': 'MIAMI', 'bigPop': 825232},\n",
       " {'_id': 'MD', 'bigCity': 'BALTIMORE', 'bigPop': 733081},\n",
       " {'_id': 'TN', 'bigCity': 'MEMPHIS', 'bigPop': 632837},\n",
       " {'_id': 'GA', 'bigCity': 'ATLANTA', 'bigPop': 609591},\n",
       " {'_id': 'DC', 'bigCity': 'WASHINGTON', 'bigPop': 606879},\n",
       " {'_id': 'NV', 'bigCity': 'LAS VEGAS', 'bigPop': 597557},\n",
       " {'_id': 'WI', 'bigCity': 'MILWAUKEE', 'bigPop': 597324},\n",
       " {'_id': 'OH', 'bigCity': 'CLEVELAND', 'bigPop': 536759},\n",
       " {'_id': 'WA', 'bigCity': 'SEATTLE', 'bigPop': 520096},\n",
       " {'_id': 'OR', 'bigCity': 'PORTLAND', 'bigPop': 518543},\n",
       " {'_id': 'LA', 'bigCity': 'NEW ORLEANS', 'bigPop': 496937},\n",
       " {'_id': 'NC', 'bigCity': 'CHARLOTTE', 'bigPop': 465833},\n",
       " {'_id': 'CO', 'bigCity': 'DENVER', 'bigPop': 451182},\n",
       " {'_id': 'NM', 'bigCity': 'ALBUQUERQUE', 'bigPop': 449584},\n",
       " {'_id': 'MO', 'bigCity': 'SAINT LOUIS', 'bigPop': 397802},\n",
       " {'_id': 'HI', 'bigCity': 'HONOLULU', 'bigPop': 396643},\n",
       " {'_id': 'OK', 'bigCity': 'TULSA', 'bigPop': 389072},\n",
       " {'_id': 'VA', 'bigCity': 'VIRGINIA BEACH', 'bigPop': 385080},\n",
       " {'_id': 'NE', 'bigCity': 'OMAHA', 'bigPop': 358930},\n",
       " {'_id': 'IN', 'bigCity': 'INDIANAPOLIS', 'bigPop': 348868},\n",
       " {'_id': 'MN', 'bigCity': 'MINNEAPOLIS', 'bigPop': 344719},\n",
       " {'_id': 'KS', 'bigCity': 'WICHITA', 'bigPop': 295115},\n",
       " {'_id': 'KY', 'bigCity': 'LOUISVILLE', 'bigPop': 288058},\n",
       " {'_id': 'NJ', 'bigCity': 'NEWARK', 'bigPop': 275572},\n",
       " {'_id': 'SC', 'bigCity': 'COLUMBIA', 'bigPop': 269521},\n",
       " {'_id': 'AL', 'bigCity': 'BIRMINGHAM', 'bigPop': 242606},\n",
       " {'_id': 'MS', 'bigCity': 'JACKSON', 'bigPop': 204788},\n",
       " {'_id': 'AR', 'bigCity': 'LITTLE ROCK', 'bigPop': 192895},\n",
       " {'_id': 'UT', 'bigCity': 'SALT LAKE CITY', 'bigPop': 186346},\n",
       " {'_id': 'AK', 'bigCity': 'ANCHORAGE', 'bigPop': 183987},\n",
       " {'_id': 'RI', 'bigCity': 'CRANSTON', 'bigPop': 176404},\n",
       " {'_id': 'MA', 'bigCity': 'WORCESTER', 'bigPop': 169856},\n",
       " {'_id': 'ID', 'bigCity': 'BOISE', 'bigPop': 165522},\n",
       " {'_id': 'IA', 'bigCity': 'DES MOINES', 'bigPop': 148155},\n",
       " {'_id': 'CT', 'bigCity': 'BRIDGEPORT', 'bigPop': 141638},\n",
       " {'_id': 'DE', 'bigCity': 'NEWARK', 'bigPop': 111674},\n",
       " {'_id': 'NH', 'bigCity': 'MANCHESTER', 'bigPop': 106452},\n",
       " {'_id': 'SD', 'bigCity': 'SIOUX FALLS', 'bigPop': 102046},\n",
       " {'_id': 'MT', 'bigCity': 'BILLINGS', 'bigPop': 78805},\n",
       " {'_id': 'WV', 'bigCity': 'HUNTINGTON', 'bigPop': 75343},\n",
       " {'_id': 'WY', 'bigCity': 'CHEYENNE', 'bigPop': 70185},\n",
       " {'_id': 'ME', 'bigCity': 'PORTLAND', 'bigPop': 63268},\n",
       " {'_id': 'ND', 'bigCity': 'GRAND FORKS', 'bigPop': 59527},\n",
       " {'_id': 'VT', 'bigCity': 'BURLINGTON', 'bigPop': 39127}]"
      ]
     },
     "execution_count": 17,
     "metadata": {},
     "output_type": "execute_result"
    }
   ],
   "source": [
    "## Find, for every state, the biggest city and its population\n",
    "list(zips.aggregate( [ \n",
    "{ \"$group\": { \"_id\": { \"state\": \"$state\", \"city\": \"$city\" }, \"pop\": { \"$sum\": \"$pop\" } } },\n",
    "{ \"$sort\": { \"pop\": -1 } },\n",
    "{ \"$group\": { \"_id\" : \"$_id.state\", \"bigCity\": { \"$first\": \"$_id.city\" }, \"bigPop\": { \"$first\": \"$pop\" } } },\n",
    "{ \"$sort\" : {\"bigPop\" : -1} }\n",
    "] ))"
   ]
  },
  {
   "cell_type": "code",
   "execution_count": 18,
   "id": "356a1145",
   "metadata": {},
   "outputs": [
    {
     "data": {
      "text/plain": [
       "[{'_id': 'IL', 'bigCity': 'CHICAGO'},\n",
       " {'_id': 'NY', 'bigCity': 'BROOKLYN'},\n",
       " {'_id': 'CA', 'bigCity': 'LOS ANGELES'},\n",
       " {'_id': 'TX', 'bigCity': 'HOUSTON'},\n",
       " {'_id': 'PA', 'bigCity': 'PHILADELPHIA'},\n",
       " {'_id': 'MI', 'bigCity': 'DETROIT'},\n",
       " {'_id': 'AZ', 'bigCity': 'PHOENIX'},\n",
       " {'_id': 'FL', 'bigCity': 'MIAMI'},\n",
       " {'_id': 'MD', 'bigCity': 'BALTIMORE'},\n",
       " {'_id': 'TN', 'bigCity': 'MEMPHIS'},\n",
       " {'_id': 'GA', 'bigCity': 'ATLANTA'},\n",
       " {'_id': 'DC', 'bigCity': 'WASHINGTON'},\n",
       " {'_id': 'NV', 'bigCity': 'LAS VEGAS'},\n",
       " {'_id': 'WI', 'bigCity': 'MILWAUKEE'},\n",
       " {'_id': 'OH', 'bigCity': 'CLEVELAND'},\n",
       " {'_id': 'WA', 'bigCity': 'SEATTLE'},\n",
       " {'_id': 'OR', 'bigCity': 'PORTLAND'},\n",
       " {'_id': 'LA', 'bigCity': 'NEW ORLEANS'},\n",
       " {'_id': 'NC', 'bigCity': 'CHARLOTTE'},\n",
       " {'_id': 'CO', 'bigCity': 'DENVER'},\n",
       " {'_id': 'NM', 'bigCity': 'ALBUQUERQUE'},\n",
       " {'_id': 'MO', 'bigCity': 'SAINT LOUIS'},\n",
       " {'_id': 'HI', 'bigCity': 'HONOLULU'},\n",
       " {'_id': 'OK', 'bigCity': 'TULSA'},\n",
       " {'_id': 'VA', 'bigCity': 'VIRGINIA BEACH'},\n",
       " {'_id': 'NE', 'bigCity': 'OMAHA'},\n",
       " {'_id': 'IN', 'bigCity': 'INDIANAPOLIS'},\n",
       " {'_id': 'MN', 'bigCity': 'MINNEAPOLIS'},\n",
       " {'_id': 'KS', 'bigCity': 'WICHITA'},\n",
       " {'_id': 'KY', 'bigCity': 'LOUISVILLE'},\n",
       " {'_id': 'NJ', 'bigCity': 'NEWARK'},\n",
       " {'_id': 'SC', 'bigCity': 'COLUMBIA'},\n",
       " {'_id': 'AL', 'bigCity': 'BIRMINGHAM'},\n",
       " {'_id': 'MS', 'bigCity': 'JACKSON'},\n",
       " {'_id': 'AR', 'bigCity': 'LITTLE ROCK'},\n",
       " {'_id': 'UT', 'bigCity': 'SALT LAKE CITY'},\n",
       " {'_id': 'AK', 'bigCity': 'ANCHORAGE'},\n",
       " {'_id': 'RI', 'bigCity': 'CRANSTON'},\n",
       " {'_id': 'MA', 'bigCity': 'WORCESTER'},\n",
       " {'_id': 'ID', 'bigCity': 'BOISE'},\n",
       " {'_id': 'IA', 'bigCity': 'DES MOINES'},\n",
       " {'_id': 'CT', 'bigCity': 'BRIDGEPORT'},\n",
       " {'_id': 'DE', 'bigCity': 'NEWARK'},\n",
       " {'_id': 'NH', 'bigCity': 'MANCHESTER'},\n",
       " {'_id': 'SD', 'bigCity': 'SIOUX FALLS'},\n",
       " {'_id': 'MT', 'bigCity': 'BILLINGS'},\n",
       " {'_id': 'WV', 'bigCity': 'HUNTINGTON'},\n",
       " {'_id': 'WY', 'bigCity': 'CHEYENNE'},\n",
       " {'_id': 'ME', 'bigCity': 'PORTLAND'},\n",
       " {'_id': 'ND', 'bigCity': 'GRAND FORKS'},\n",
       " {'_id': 'VT', 'bigCity': 'BURLINGTON'}]"
      ]
     },
     "execution_count": 18,
     "metadata": {},
     "output_type": "execute_result"
    }
   ],
   "source": [
    "# If we only want to keep the state and city \n",
    "list(zips.aggregate([ \n",
    "{ \"$group\": { \"_id\": { \"state\": \"$state\", \"city\": \"$city\" }, \"pop\": { \"$sum\": \"$pop\" } } },\n",
    "{ \"$sort\": { \"pop\": -1 } },\n",
    "{ \"$group\": { \"_id\" : \"$_id.state\", \"bigCity\": { \"$first\": \"$_id.city\" }, \"bigPop\": { \"$first\": \"$pop\" } } },\n",
    "{ \"$sort\": {\"bigPop\" : -1} },\n",
    "{ \"$project\": {\"bigPop\" : 0} }\n",
    "] ))"
   ]
  },
  {
   "cell_type": "code",
   "execution_count": 19,
   "id": "951c72f5",
   "metadata": {},
   "outputs": [
    {
     "data": {
      "text/plain": [
       "[{'state': 'IL', 'bigCityDeets': {'name': 'CHICAGO', 'pop': 2452177}},\n",
       " {'state': 'NY', 'bigCityDeets': {'name': 'BROOKLYN', 'pop': 2300504}},\n",
       " {'state': 'CA', 'bigCityDeets': {'name': 'LOS ANGELES', 'pop': 2102295}},\n",
       " {'state': 'TX', 'bigCityDeets': {'name': 'HOUSTON', 'pop': 2095918}},\n",
       " {'state': 'PA', 'bigCityDeets': {'name': 'PHILADELPHIA', 'pop': 1610956}},\n",
       " {'state': 'MI', 'bigCityDeets': {'name': 'DETROIT', 'pop': 963243}},\n",
       " {'state': 'AZ', 'bigCityDeets': {'name': 'PHOENIX', 'pop': 890853}},\n",
       " {'state': 'FL', 'bigCityDeets': {'name': 'MIAMI', 'pop': 825232}},\n",
       " {'state': 'MD', 'bigCityDeets': {'name': 'BALTIMORE', 'pop': 733081}},\n",
       " {'state': 'TN', 'bigCityDeets': {'name': 'MEMPHIS', 'pop': 632837}},\n",
       " {'state': 'GA', 'bigCityDeets': {'name': 'ATLANTA', 'pop': 609591}},\n",
       " {'state': 'DC', 'bigCityDeets': {'name': 'WASHINGTON', 'pop': 606879}},\n",
       " {'state': 'NV', 'bigCityDeets': {'name': 'LAS VEGAS', 'pop': 597557}},\n",
       " {'state': 'WI', 'bigCityDeets': {'name': 'MILWAUKEE', 'pop': 597324}},\n",
       " {'state': 'OH', 'bigCityDeets': {'name': 'CLEVELAND', 'pop': 536759}},\n",
       " {'state': 'WA', 'bigCityDeets': {'name': 'SEATTLE', 'pop': 520096}},\n",
       " {'state': 'OR', 'bigCityDeets': {'name': 'PORTLAND', 'pop': 518543}},\n",
       " {'state': 'LA', 'bigCityDeets': {'name': 'NEW ORLEANS', 'pop': 496937}},\n",
       " {'state': 'NC', 'bigCityDeets': {'name': 'CHARLOTTE', 'pop': 465833}},\n",
       " {'state': 'CO', 'bigCityDeets': {'name': 'DENVER', 'pop': 451182}},\n",
       " {'state': 'NM', 'bigCityDeets': {'name': 'ALBUQUERQUE', 'pop': 449584}},\n",
       " {'state': 'MO', 'bigCityDeets': {'name': 'SAINT LOUIS', 'pop': 397802}},\n",
       " {'state': 'HI', 'bigCityDeets': {'name': 'HONOLULU', 'pop': 396643}},\n",
       " {'state': 'OK', 'bigCityDeets': {'name': 'TULSA', 'pop': 389072}},\n",
       " {'state': 'VA', 'bigCityDeets': {'name': 'VIRGINIA BEACH', 'pop': 385080}},\n",
       " {'state': 'NE', 'bigCityDeets': {'name': 'OMAHA', 'pop': 358930}},\n",
       " {'state': 'IN', 'bigCityDeets': {'name': 'INDIANAPOLIS', 'pop': 348868}},\n",
       " {'state': 'MN', 'bigCityDeets': {'name': 'MINNEAPOLIS', 'pop': 344719}},\n",
       " {'state': 'KS', 'bigCityDeets': {'name': 'WICHITA', 'pop': 295115}},\n",
       " {'state': 'KY', 'bigCityDeets': {'name': 'LOUISVILLE', 'pop': 288058}},\n",
       " {'state': 'NJ', 'bigCityDeets': {'name': 'NEWARK', 'pop': 275572}},\n",
       " {'state': 'SC', 'bigCityDeets': {'name': 'COLUMBIA', 'pop': 269521}},\n",
       " {'state': 'AL', 'bigCityDeets': {'name': 'BIRMINGHAM', 'pop': 242606}},\n",
       " {'state': 'MS', 'bigCityDeets': {'name': 'JACKSON', 'pop': 204788}},\n",
       " {'state': 'AR', 'bigCityDeets': {'name': 'LITTLE ROCK', 'pop': 192895}},\n",
       " {'state': 'UT', 'bigCityDeets': {'name': 'SALT LAKE CITY', 'pop': 186346}},\n",
       " {'state': 'AK', 'bigCityDeets': {'name': 'ANCHORAGE', 'pop': 183987}},\n",
       " {'state': 'RI', 'bigCityDeets': {'name': 'CRANSTON', 'pop': 176404}},\n",
       " {'state': 'MA', 'bigCityDeets': {'name': 'WORCESTER', 'pop': 169856}},\n",
       " {'state': 'ID', 'bigCityDeets': {'name': 'BOISE', 'pop': 165522}},\n",
       " {'state': 'IA', 'bigCityDeets': {'name': 'DES MOINES', 'pop': 148155}},\n",
       " {'state': 'CT', 'bigCityDeets': {'name': 'BRIDGEPORT', 'pop': 141638}},\n",
       " {'state': 'DE', 'bigCityDeets': {'name': 'NEWARK', 'pop': 111674}},\n",
       " {'state': 'NH', 'bigCityDeets': {'name': 'MANCHESTER', 'pop': 106452}},\n",
       " {'state': 'SD', 'bigCityDeets': {'name': 'SIOUX FALLS', 'pop': 102046}},\n",
       " {'state': 'MT', 'bigCityDeets': {'name': 'BILLINGS', 'pop': 78805}},\n",
       " {'state': 'WV', 'bigCityDeets': {'name': 'HUNTINGTON', 'pop': 75343}},\n",
       " {'state': 'WY', 'bigCityDeets': {'name': 'CHEYENNE', 'pop': 70185}},\n",
       " {'state': 'ME', 'bigCityDeets': {'name': 'PORTLAND', 'pop': 63268}},\n",
       " {'state': 'ND', 'bigCityDeets': {'name': 'GRAND FORKS', 'pop': 59527}},\n",
       " {'state': 'VT', 'bigCityDeets': {'name': 'BURLINGTON', 'pop': 39127}}]"
      ]
     },
     "execution_count": 19,
     "metadata": {},
     "output_type": "execute_result"
    }
   ],
   "source": [
    "# If we wanted to nest the name of the city and population into a nested doc\n",
    "\n",
    "list(zips.aggregate( [ \n",
    "{ \"$group\": { \"_id\": { \"state\": \"$state\", \"city\": \"$city\" }, \"pop\": { \"$sum\": \"$pop\" } } },\n",
    "{ \"$sort\": { \"pop\": -1 } },\n",
    "{ \"$group\": { \"_id\" : \"$_id.state\", \"bigCity\": { \"$first\": \"$_id.city\" }, \"bigPop\": { \"$first\": \"$pop\" } } },\n",
    "{ \"$sort\" : {\"bigPop\" : -1} },\n",
    "{ \"$project\": { \"_id\" : 0, \"state\" : \"$_id\", \"bigCityDeets\": { \"name\": \"$bigCity\", \"pop\": \"$bigPop\" } } }\n",
    "] ))"
   ]
  },
  {
   "cell_type": "code",
   "execution_count": 20,
   "id": "80d817e6",
   "metadata": {},
   "outputs": [
    {
     "data": {
      "text/plain": [
       "[{'item': 'journal', 'tags': 'blank', 'dim': [14, 21]},\n",
       " {'item': 'journal', 'tags': 'red', 'dim': [14, 21]},\n",
       " {'item': 'notebook', 'tags': 'red', 'dim': [14, 21]},\n",
       " {'item': 'notebook', 'tags': 'blank', 'dim': [14, 21]},\n",
       " {'item': 'paper', 'tags': 'red', 'dim': [14, 21]},\n",
       " {'item': 'paper', 'tags': 'blank', 'dim': [14, 21]},\n",
       " {'item': 'paper', 'tags': 'plain', 'dim': [14, 21]},\n",
       " {'item': 'planner', 'tags': 'blank', 'dim': [22.85, 30]},\n",
       " {'item': 'planner', 'tags': 'red', 'dim': [22.85, 30]},\n",
       " {'item': 'postcard', 'tags': 'blue', 'dim': [10, 15.25]}]"
      ]
     },
     "execution_count": 20,
     "metadata": {},
     "output_type": "execute_result"
    }
   ],
   "source": [
    "# Unwind expands an array by constructing documents one per element of the array\n",
    "# Somewhat like flatMap in Spark\n",
    "\n",
    "list(inventory2.aggregate( [\n",
    "{ \"$unwind\" : \"$tags\" },\n",
    "{ \"$project\" : {\"_id\" : 0, \"instock\": 0}}\n",
    "] ))"
   ]
  },
  {
   "cell_type": "code",
   "execution_count": 21,
   "id": "2db7e912",
   "metadata": {},
   "outputs": [
    {
     "data": {
      "text/plain": [
       "[{'_id': 'notebook', 'totalqty': 5},\n",
       " {'_id': 'journal', 'totalqty': 20},\n",
       " {'_id': 'planner', 'totalqty': 45},\n",
       " {'_id': 'paper', 'totalqty': 75},\n",
       " {'_id': 'postcard', 'totalqty': 50}]"
      ]
     },
     "execution_count": 21,
     "metadata": {},
     "output_type": "execute_result"
    }
   ],
   "source": [
    "# Q: Imagine if we want to find sum of qtys across items. How would we do this?\n",
    "# A common recipe in MQL queries is to unwind and then group by\n",
    "\n",
    "list(inventory2.aggregate( [\n",
    "    { \"$unwind\" : \"$instock\" },\n",
    "    { \"$group\" : {\"_id\" : \"$item\", \"totalqty\" : {\"$sum\" : \"$instock.qty\"}}}\n",
    "] ))"
   ]
  },
  {
   "cell_type": "code",
   "execution_count": 22,
   "id": "78e8c3da",
   "metadata": {},
   "outputs": [
    {
     "data": {
      "text/plain": [
       "[{'item': 'journal',\n",
       "  'instock': [{'loc': 'A', 'qty': 5}, {'loc': 'C', 'qty': 15}],\n",
       "  'otheritems': [{'_id': ObjectId('636d800fde3017bb41a31710'),\n",
       "    'item': 'journal',\n",
       "    'instock': [{'loc': 'A', 'qty': 5}, {'loc': 'C', 'qty': 15}],\n",
       "    'tags': ['blank', 'red'],\n",
       "    'dim': [14, 21]},\n",
       "   {'_id': ObjectId('636d800fde3017bb41a31711'),\n",
       "    'item': 'notebook',\n",
       "    'instock': [{'loc': 'C', 'qty': 5}],\n",
       "    'tags': ['red', 'blank'],\n",
       "    'dim': [14, 21]},\n",
       "   {'_id': ObjectId('636d800fde3017bb41a31712'),\n",
       "    'item': 'paper',\n",
       "    'instock': [{'loc': 'A', 'qty': 60}, {'loc': 'B', 'qty': 15}],\n",
       "    'tags': ['red', 'blank', 'plain'],\n",
       "    'dim': [14, 21]},\n",
       "   {'_id': ObjectId('636d800fde3017bb41a31713'),\n",
       "    'item': 'planner',\n",
       "    'instock': [{'loc': 'A', 'qty': 40}, {'loc': 'B', 'qty': 5}],\n",
       "    'tags': ['blank', 'red'],\n",
       "    'dim': [22.85, 30]},\n",
       "   {'_id': ObjectId('636d800fde3017bb41a31714'),\n",
       "    'item': 'postcard',\n",
       "    'instock': [{'loc': 'B', 'qty': 15}, {'loc': 'C', 'qty': 35}],\n",
       "    'tags': ['blue'],\n",
       "    'dim': [10, 15.25]}]},\n",
       " {'item': 'notebook',\n",
       "  'instock': [{'loc': 'C', 'qty': 5}],\n",
       "  'otheritems': [{'_id': ObjectId('636d800fde3017bb41a31710'),\n",
       "    'item': 'journal',\n",
       "    'instock': [{'loc': 'A', 'qty': 5}, {'loc': 'C', 'qty': 15}],\n",
       "    'tags': ['blank', 'red'],\n",
       "    'dim': [14, 21]},\n",
       "   {'_id': ObjectId('636d800fde3017bb41a31711'),\n",
       "    'item': 'notebook',\n",
       "    'instock': [{'loc': 'C', 'qty': 5}],\n",
       "    'tags': ['red', 'blank'],\n",
       "    'dim': [14, 21]},\n",
       "   {'_id': ObjectId('636d800fde3017bb41a31714'),\n",
       "    'item': 'postcard',\n",
       "    'instock': [{'loc': 'B', 'qty': 15}, {'loc': 'C', 'qty': 35}],\n",
       "    'tags': ['blue'],\n",
       "    'dim': [10, 15.25]}]},\n",
       " {'item': 'paper',\n",
       "  'instock': [{'loc': 'A', 'qty': 60}, {'loc': 'B', 'qty': 15}],\n",
       "  'otheritems': [{'_id': ObjectId('636d800fde3017bb41a31710'),\n",
       "    'item': 'journal',\n",
       "    'instock': [{'loc': 'A', 'qty': 5}, {'loc': 'C', 'qty': 15}],\n",
       "    'tags': ['blank', 'red'],\n",
       "    'dim': [14, 21]},\n",
       "   {'_id': ObjectId('636d800fde3017bb41a31712'),\n",
       "    'item': 'paper',\n",
       "    'instock': [{'loc': 'A', 'qty': 60}, {'loc': 'B', 'qty': 15}],\n",
       "    'tags': ['red', 'blank', 'plain'],\n",
       "    'dim': [14, 21]},\n",
       "   {'_id': ObjectId('636d800fde3017bb41a31713'),\n",
       "    'item': 'planner',\n",
       "    'instock': [{'loc': 'A', 'qty': 40}, {'loc': 'B', 'qty': 5}],\n",
       "    'tags': ['blank', 'red'],\n",
       "    'dim': [22.85, 30]},\n",
       "   {'_id': ObjectId('636d800fde3017bb41a31714'),\n",
       "    'item': 'postcard',\n",
       "    'instock': [{'loc': 'B', 'qty': 15}, {'loc': 'C', 'qty': 35}],\n",
       "    'tags': ['blue'],\n",
       "    'dim': [10, 15.25]}]},\n",
       " {'item': 'planner',\n",
       "  'instock': [{'loc': 'A', 'qty': 40}, {'loc': 'B', 'qty': 5}],\n",
       "  'otheritems': [{'_id': ObjectId('636d800fde3017bb41a31710'),\n",
       "    'item': 'journal',\n",
       "    'instock': [{'loc': 'A', 'qty': 5}, {'loc': 'C', 'qty': 15}],\n",
       "    'tags': ['blank', 'red'],\n",
       "    'dim': [14, 21]},\n",
       "   {'_id': ObjectId('636d800fde3017bb41a31712'),\n",
       "    'item': 'paper',\n",
       "    'instock': [{'loc': 'A', 'qty': 60}, {'loc': 'B', 'qty': 15}],\n",
       "    'tags': ['red', 'blank', 'plain'],\n",
       "    'dim': [14, 21]},\n",
       "   {'_id': ObjectId('636d800fde3017bb41a31713'),\n",
       "    'item': 'planner',\n",
       "    'instock': [{'loc': 'A', 'qty': 40}, {'loc': 'B', 'qty': 5}],\n",
       "    'tags': ['blank', 'red'],\n",
       "    'dim': [22.85, 30]},\n",
       "   {'_id': ObjectId('636d800fde3017bb41a31714'),\n",
       "    'item': 'postcard',\n",
       "    'instock': [{'loc': 'B', 'qty': 15}, {'loc': 'C', 'qty': 35}],\n",
       "    'tags': ['blue'],\n",
       "    'dim': [10, 15.25]}]},\n",
       " {'item': 'postcard',\n",
       "  'instock': [{'loc': 'B', 'qty': 15}, {'loc': 'C', 'qty': 35}],\n",
       "  'otheritems': [{'_id': ObjectId('636d800fde3017bb41a31710'),\n",
       "    'item': 'journal',\n",
       "    'instock': [{'loc': 'A', 'qty': 5}, {'loc': 'C', 'qty': 15}],\n",
       "    'tags': ['blank', 'red'],\n",
       "    'dim': [14, 21]},\n",
       "   {'_id': ObjectId('636d800fde3017bb41a31711'),\n",
       "    'item': 'notebook',\n",
       "    'instock': [{'loc': 'C', 'qty': 5}],\n",
       "    'tags': ['red', 'blank'],\n",
       "    'dim': [14, 21]},\n",
       "   {'_id': ObjectId('636d800fde3017bb41a31712'),\n",
       "    'item': 'paper',\n",
       "    'instock': [{'loc': 'A', 'qty': 60}, {'loc': 'B', 'qty': 15}],\n",
       "    'tags': ['red', 'blank', 'plain'],\n",
       "    'dim': [14, 21]},\n",
       "   {'_id': ObjectId('636d800fde3017bb41a31713'),\n",
       "    'item': 'planner',\n",
       "    'instock': [{'loc': 'A', 'qty': 40}, {'loc': 'B', 'qty': 5}],\n",
       "    'tags': ['blank', 'red'],\n",
       "    'dim': [22.85, 30]},\n",
       "   {'_id': ObjectId('636d800fde3017bb41a31714'),\n",
       "    'item': 'postcard',\n",
       "    'instock': [{'loc': 'B', 'qty': 15}, {'loc': 'C', 'qty': 35}],\n",
       "    'tags': ['blue'],\n",
       "    'dim': [10, 15.25]}]}]"
      ]
     },
     "execution_count": 22,
     "metadata": {},
     "output_type": "execute_result"
    }
   ],
   "source": [
    "# Conceptually, for each document,  find documents in other collection that join (equijoin)\n",
    "# local field must match foreign field\n",
    "# place each of them in an array\n",
    "#\n",
    "# Thus, a left outer equi-join, with the join results stored in an array\n",
    "\n",
    "list(inventory2.aggregate( [\n",
    "{ \"$lookup\" : {\"from\" : \"inventory2\", \"localField\": \"instock.loc\", \"foreignField\": \"instock.loc\", \"as\":\"otheritems\"}},\n",
    "{ \"$project\" : {\"_id\" : 0, \"tags\" : 0, \"dim\" : 0}}\n",
    "] ))"
   ]
  },
  {
   "cell_type": "code",
   "execution_count": 23,
   "id": "7fced9f4",
   "metadata": {},
   "outputs": [
    {
     "data": {
      "text/plain": [
       "[{'item': 'journal',\n",
       "  'instock': [{'loc': 'A', 'qty': 5}, {'loc': 'C', 'qty': 15}],\n",
       "  'otheritems': [{'item': 'journal', 'instock': [{'loc': 'A'}, {'loc': 'C'}]},\n",
       "   {'item': 'notebook', 'instock': [{'loc': 'C'}]},\n",
       "   {'item': 'paper', 'instock': [{'loc': 'A'}, {'loc': 'B'}]},\n",
       "   {'item': 'planner', 'instock': [{'loc': 'A'}, {'loc': 'B'}]},\n",
       "   {'item': 'postcard', 'instock': [{'loc': 'B'}, {'loc': 'C'}]}]},\n",
       " {'item': 'notebook',\n",
       "  'instock': [{'loc': 'C', 'qty': 5}],\n",
       "  'otheritems': [{'item': 'journal', 'instock': [{'loc': 'A'}, {'loc': 'C'}]},\n",
       "   {'item': 'notebook', 'instock': [{'loc': 'C'}]},\n",
       "   {'item': 'postcard', 'instock': [{'loc': 'B'}, {'loc': 'C'}]}]},\n",
       " {'item': 'paper',\n",
       "  'instock': [{'loc': 'A', 'qty': 60}, {'loc': 'B', 'qty': 15}],\n",
       "  'otheritems': [{'item': 'journal', 'instock': [{'loc': 'A'}, {'loc': 'C'}]},\n",
       "   {'item': 'paper', 'instock': [{'loc': 'A'}, {'loc': 'B'}]},\n",
       "   {'item': 'planner', 'instock': [{'loc': 'A'}, {'loc': 'B'}]},\n",
       "   {'item': 'postcard', 'instock': [{'loc': 'B'}, {'loc': 'C'}]}]},\n",
       " {'item': 'planner',\n",
       "  'instock': [{'loc': 'A', 'qty': 40}, {'loc': 'B', 'qty': 5}],\n",
       "  'otheritems': [{'item': 'journal', 'instock': [{'loc': 'A'}, {'loc': 'C'}]},\n",
       "   {'item': 'paper', 'instock': [{'loc': 'A'}, {'loc': 'B'}]},\n",
       "   {'item': 'planner', 'instock': [{'loc': 'A'}, {'loc': 'B'}]},\n",
       "   {'item': 'postcard', 'instock': [{'loc': 'B'}, {'loc': 'C'}]}]},\n",
       " {'item': 'postcard',\n",
       "  'instock': [{'loc': 'B', 'qty': 15}, {'loc': 'C', 'qty': 35}],\n",
       "  'otheritems': [{'item': 'journal', 'instock': [{'loc': 'A'}, {'loc': 'C'}]},\n",
       "   {'item': 'notebook', 'instock': [{'loc': 'C'}]},\n",
       "   {'item': 'paper', 'instock': [{'loc': 'A'}, {'loc': 'B'}]},\n",
       "   {'item': 'planner', 'instock': [{'loc': 'A'}, {'loc': 'B'}]},\n",
       "   {'item': 'postcard', 'instock': [{'loc': 'B'}, {'loc': 'C'}]}]}]"
      ]
     },
     "execution_count": 23,
     "metadata": {},
     "output_type": "execute_result"
    }
   ],
   "source": [
    "# Lookup.. after some more projection\n",
    "list(inventory2.aggregate([\n",
    "{\"$lookup\" : {\"from\":\"inventory2\", \"localField\":\"instock.loc\", \"foreignField\":\"instock.loc\", \"as\":\"otheritems\"}},\n",
    "{\"$project\" : {\"_id\" : 0, \"tags\" :0, \"dim\" :0, \"otheritems._id\":0, \"otheritems.tags\":0, \"otheritems.dim\":0, \"otheritems.instock.qty\":0}} ] )\n",
    "    )"
   ]
  },
  {
   "cell_type": "code",
   "execution_count": 24,
   "id": "88d183a3",
   "metadata": {},
   "outputs": [
    {
     "data": {
      "text/plain": [
       "[{'item': 'journal', 'tags': 'blank', 'dim': [14, 21]},\n",
       " {'item': 'journal', 'tags': 'red', 'dim': [14, 21]},\n",
       " {'item': 'notebook', 'tags': 'red', 'dim': [14, 21]},\n",
       " {'item': 'notebook', 'tags': 'blank', 'dim': [14, 21]},\n",
       " {'item': 'paper', 'tags': 'red', 'dim': [14, 21]},\n",
       " {'item': 'paper', 'tags': 'blank', 'dim': [14, 21]},\n",
       " {'item': 'paper', 'tags': 'plain', 'dim': [14, 21]},\n",
       " {'item': 'planner', 'tags': 'blank', 'dim': [22.85, 30]},\n",
       " {'item': 'planner', 'tags': 'red', 'dim': [22.85, 30]},\n",
       " {'item': 'postcard', 'tags': 'blue', 'dim': [10, 15.25]}]"
      ]
     },
     "execution_count": 24,
     "metadata": {},
     "output_type": "execute_result"
    }
   ],
   "source": [
    "inventory3 = db[\"inventory3\"]\n",
    "inventory3.insert_many([\n",
    "{ \"item\": \"journal\", \"instock\": [ { \"loc\": \"A\", \"qty\": 5 }, { \"loc\": \"C\", \"qty\": 15 } ], \"tags\": [\"blank\", \"red\"], \"dim\": [ 14, 21 ] },\n",
    "{ \"item\": \"notebook\", \"instock\": [ { \"loc\": \"C\", \"qty\": 5 } ], \"tags\": [\"red\", \"blank\"] , \"dim\": [ 14, 21 ]},\n",
    "{ \"item\": \"paper\", \"instock\": [ { \"loc\": \"A\", \"qty\": 60 }, { \"loc\": \"B\", \"qty\": 15 } ], \"tags\": [\"red\", \"blank\", \"plain\"] , \"dim\": [14, 21]},\n",
    "{ \"item\": \"planner\", \"instock\": [ { \"loc\": \"A\", \"qty\": 40 }, { \"loc\": \"B\", \"qty\": 5 } ], \"tags\": [\"blank\", \"red\"], \"dim\": [ 22.85, 30 ] },\n",
    "{ \"item\": \"postcard\", \"instock\": [ {\"loc\": \"B\", \"qty\": 15 }, { \"loc\": \"C\", \"qty\": 35 } ], \"tags\": [\"blue\"] , \"dim\": [ 10, 15.25 ]},\n",
    "{ \"item\": \"postcard2\", \"instock\": [ {\"loc\": \"B\", \"qty\": 15 }, { \"loc\": \"C\", \"qty\": 35 } ], \"tags\": [] , \"dim\": [ 10, 15.25 ]},\n",
    "{ \"item\": \"postcard3\", \"instock\": [ {\"loc\": \"B\", \"qty\": 15 }, { \"loc\": \"C\", \"qty\": 35 } ], \"dim\": [ 10, 15.25 ]}\n",
    "])\n",
    "\n",
    "list(inventory3.aggregate( [\n",
    "{ \"$unwind\" : \"$tags\" },\n",
    "{ \"$project\" : {\"_id\" : 0, \"instock\": 0}}\n",
    "] ))"
   ]
  },
  {
   "cell_type": "code",
   "execution_count": 25,
   "id": "f4598559",
   "metadata": {},
   "outputs": [
    {
     "data": {
      "text/plain": [
       "[{'_id': ObjectId('636d8010de3017bb41a31715'),\n",
       "  'item': 'journal',\n",
       "  'instock': [{'loc': 'A', 'qty': 5}, {'loc': 'C', 'qty': 15}],\n",
       "  'tags': ['blank', 'red'],\n",
       "  'dim': [14, 21]},\n",
       " {'_id': ObjectId('636d8010de3017bb41a31716'),\n",
       "  'item': 'notebook',\n",
       "  'instock': [{'loc': 'C', 'qty': 5}],\n",
       "  'tags': ['red', 'blank'],\n",
       "  'dim': [14, 21]},\n",
       " {'_id': ObjectId('636d8010de3017bb41a31717'),\n",
       "  'item': 'paper',\n",
       "  'instock': [{'loc': 'A', 'qty': 60}, {'loc': 'B', 'qty': 15}],\n",
       "  'tags': ['red', 'blank', 'plain'],\n",
       "  'dim': [14, 21]},\n",
       " {'_id': ObjectId('636d8010de3017bb41a31718'),\n",
       "  'item': 'planner',\n",
       "  'instock': [{'loc': 'A', 'qty': 40}, {'loc': 'B', 'qty': 5}],\n",
       "  'tags': ['blank', 'red'],\n",
       "  'dim': [22.85, 30]},\n",
       " {'_id': ObjectId('636d8010de3017bb41a31719'),\n",
       "  'item': 'postcard',\n",
       "  'instock': [{'loc': 'B', 'qty': 15}, {'loc': 'C', 'qty': 35}],\n",
       "  'tags': ['blue'],\n",
       "  'dim': [10, 15.25]},\n",
       " {'_id': ObjectId('636d8010de3017bb41a3171a'),\n",
       "  'item': 'postcard2',\n",
       "  'instock': [{'loc': 'B', 'qty': 15}, {'loc': 'C', 'qty': 35}],\n",
       "  'tags': [],\n",
       "  'dim': [10, 15.25]},\n",
       " {'_id': ObjectId('636d8010de3017bb41a3171b'),\n",
       "  'item': 'postcard3',\n",
       "  'instock': [{'loc': 'B', 'qty': 15}, {'loc': 'C', 'qty': 35}],\n",
       "  'dim': [10, 15.25]}]"
      ]
     },
     "execution_count": 25,
     "metadata": {},
     "output_type": "execute_result"
    }
   ],
   "source": [
    "list(inventory3.find({}))"
   ]
  },
  {
   "cell_type": "code",
   "execution_count": 26,
   "id": "5d8a6949",
   "metadata": {},
   "outputs": [
    {
     "data": {
      "text/plain": [
       "[{'_id': ObjectId('636d800fde3017bb41a31710'),\n",
       "  'item': 'journal',\n",
       "  'instock': [{'loc': 'A', 'qty': 5}, {'loc': 'C', 'qty': 15}],\n",
       "  'tags': ['blank', 'red'],\n",
       "  'dim': [14, 21]},\n",
       " {'_id': ObjectId('636d800fde3017bb41a31711'),\n",
       "  'item': 'notebook',\n",
       "  'instock': [{'loc': 'C', 'qty': 5}],\n",
       "  'tags': ['red', 'blank'],\n",
       "  'dim': [14, 21]},\n",
       " {'_id': ObjectId('636d800fde3017bb41a31712'),\n",
       "  'item': 'paper',\n",
       "  'instock': [{'loc': 'A', 'qty': 60}, {'loc': 'B', 'qty': 15}],\n",
       "  'tags': ['red', 'blank', 'plain'],\n",
       "  'dim': [14, 21]},\n",
       " {'_id': ObjectId('636d800fde3017bb41a31713'),\n",
       "  'item': 'planner',\n",
       "  'instock': [{'loc': 'A', 'qty': 40}, {'loc': 'B', 'qty': 5}],\n",
       "  'tags': ['blank', 'red'],\n",
       "  'dim': [22.85, 30]},\n",
       " {'_id': ObjectId('636d800fde3017bb41a31714'),\n",
       "  'item': 'postcard',\n",
       "  'instock': [{'loc': 'B', 'qty': 15}, {'loc': 'C', 'qty': 35}],\n",
       "  'tags': ['blue'],\n",
       "  'dim': [10, 15.25]}]"
      ]
     },
     "execution_count": 26,
     "metadata": {},
     "output_type": "execute_result"
    }
   ],
   "source": [
    "inventory2 = db[\"inventory2\"]\n",
    "\n",
    "list(inventory2.find({}))"
   ]
  },
  {
   "cell_type": "code",
   "execution_count": null,
   "id": "5917ebf4",
   "metadata": {},
   "outputs": [],
   "source": []
  }
 ],
 "metadata": {
  "kernelspec": {
   "display_name": "Python 3",
   "language": "python",
   "name": "python3"
  },
  "language_info": {
   "codemirror_mode": {
    "name": "ipython",
    "version": 3
   },
   "file_extension": ".py",
   "mimetype": "text/x-python",
   "name": "python",
   "nbconvert_exporter": "python",
   "pygments_lexer": "ipython3",
   "version": "3.8.10"
  }
 },
 "nbformat": 4,
 "nbformat_minor": 5
}
