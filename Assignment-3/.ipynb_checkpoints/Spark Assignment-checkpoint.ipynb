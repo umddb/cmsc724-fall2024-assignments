{
 "cells": [
  {
   "cell_type": "code",
   "execution_count": 1,
   "id": "fa0e710d",
   "metadata": {},
   "outputs": [
    {
     "name": "stderr",
     "output_type": "stream",
     "text": [
      "                                                                                \r"
     ]
    }
   ],
   "source": [
    "import json\n",
    "import re\n",
    "import csv\n",
    "from io import StringIO\n",
    "\n",
    "## Load data into RDDs\n",
    "usersRDD = sc.textFile(\"datafiles/se_users.json\").map(json.loads)\n",
    "postsRDD = sc.textFile(\"datafiles/se_posts.json\").map(json.loads)\n",
    "playRDD = sc.textFile(\"datafiles/play.txt\")\n",
    "logsRDD = sc.textFile(\"datafiles/NASA_logs_sample.txt\")\n",
    "nobelRDD = sc.textFile(\"datafiles/prize.json\").map(json.loads)\n",
    "\n",
    "# Movielens Ratings\n",
    "# The complicated setup is needed to properly parse the CSV file, and also to skip the header row using sparkContext\n",
    "def parse_csv(line):\n",
    "    reader = csv.reader(StringIO(line))\n",
    "    return next(reader)\n",
    "\n",
    "# Let's make RDDs for the Movie Lens Files \n",
    "csvData1 = sc.textFile(\"datafiles/ml-latest-small/movies.csv\")\n",
    "moviesRDD = csvData1.zipWithIndex().filter(lambda line: line[1] != 0).map(lambda line: line[0]).map(parse_csv)\n",
    "\n",
    "# For ratings, we will skip the timestamp for simplicity\n",
    "csvData2 = sc.textFile(\"datafiles/ml-latest-small/ratings.csv\")\n",
    "ratingsRDD = csvData2.zipWithIndex().filter(lambda line: line[1] != 0).map(lambda line: line[0].split(\",\")[0:3])"
   ]
  },
  {
   "cell_type": "code",
   "execution_count": 2,
   "id": "f6043ee4",
   "metadata": {},
   "outputs": [
    {
     "name": "stdout",
     "output_type": "stream",
     "text": [
      "[{'id': -1, 'reputation': 1, 'creationdate': '2011-01-03', 'displayname': 'Community', 'views': 863, 'upvotes': 12299, 'downvotes': 8651}, {'id': 2, 'reputation': 101, 'creationdate': '2011-01-03', 'displayname': 'Geoff Dalgas', 'views': 64, 'upvotes': 10, 'downvotes': 0}, {'id': 3, 'reputation': 101, 'creationdate': '2011-01-03', 'displayname': 'balpha', 'views': 35, 'upvotes': 4, 'downvotes': 0}, {'id': 4, 'reputation': 212, 'creationdate': '2011-01-03', 'displayname': 'Nick Craver', 'views': 61, 'upvotes': 11, 'downvotes': 1}, {'id': 5, 'reputation': 101, 'creationdate': '2011-01-03', 'displayname': 'Emmett', 'views': 32, 'upvotes': 2, 'downvotes': 0}, {'id': 6, 'reputation': 100, 'creationdate': '2011-01-03', 'displayname': 'Robert Cartaino', 'views': 36, 'upvotes': 0, 'downvotes': 2}, {'id': 7, 'reputation': 1128, 'creationdate': '2011-01-03', 'displayname': 'Toby', 'views': 69, 'upvotes': 18, 'downvotes': 0}, {'id': 8, 'reputation': 2949, 'creationdate': '2011-01-03', 'displayname': 'ilhan', 'views': 142, 'upvotes': 12, 'downvotes': 0}, {'id': 9, 'reputation': 101, 'creationdate': '2011-01-03', 'displayname': 'Humpton', 'views': 12, 'upvotes': 7, 'downvotes': 0}, {'id': 10, 'reputation': 175, 'creationdate': '2011-01-03', 'displayname': 'Kim', 'views': 27, 'upvotes': 1, 'downvotes': 1}]\n"
     ]
    }
   ],
   "source": [
    "print(usersRDD.take(10))"
   ]
  },
  {
   "cell_type": "code",
   "execution_count": 3,
   "id": "9a78d144",
   "metadata": {},
   "outputs": [
    {
     "name": "stdout",
     "output_type": "stream",
     "text": [
      "[['1', 'Toy Story (1995)', 'Adventure|Animation|Children|Comedy|Fantasy'], ['2', 'Jumanji (1995)', 'Adventure|Children|Fantasy'], ['3', 'Grumpier Old Men (1995)', 'Comedy|Romance'], ['4', 'Waiting to Exhale (1995)', 'Comedy|Drama|Romance'], ['5', 'Father of the Bride Part II (1995)', 'Comedy'], ['6', 'Heat (1995)', 'Action|Crime|Thriller'], ['7', 'Sabrina (1995)', 'Comedy|Romance'], ['8', 'Tom and Huck (1995)', 'Adventure|Children'], ['9', 'Sudden Death (1995)', 'Action'], ['10', 'GoldenEye (1995)', 'Action|Adventure|Thriller']]\n"
     ]
    }
   ],
   "source": [
    "print(moviesRDD.take(10))"
   ]
  },
  {
   "cell_type": "code",
   "execution_count": 6,
   "id": "0ef856b0",
   "metadata": {},
   "outputs": [
    {
     "name": "stderr",
     "output_type": "stream",
     "text": [
      "\r",
      "[Stage 4:>                                                          (0 + 2) / 2]\r"
     ]
    },
    {
     "name": "stdout",
     "output_type": "stream",
     "text": [
      "[('ACT', 5), ('SCENE', 17), ('I.', 7), ('house.', 7), ('/Enter', 38), ('LEONATO,', 5), ('BEATRICE,', 6), ('in', 279), ('this', 118), ('letter', 3)]\n"
     ]
    },
    {
     "name": "stderr",
     "output_type": "stream",
     "text": [
      "\r",
      "                                                                                \r"
     ]
    }
   ],
   "source": [
    "# Simple Word count on playRDD\n",
    "wc = playRDD.flatMap(lambda s: s.split()).map(lambda w: (w, 1)).reduceByKey(lambda a, b: a + b)\n",
    "print(wc.take(10))"
   ]
  },
  {
   "cell_type": "code",
   "execution_count": null,
   "id": "90bed819",
   "metadata": {},
   "outputs": [],
   "source": []
  }
 ],
 "metadata": {
  "kernelspec": {
   "display_name": "Python 3 (ipykernel)",
   "language": "python",
   "name": "python3"
  },
  "language_info": {
   "codemirror_mode": {
    "name": "ipython",
    "version": 3
   },
   "file_extension": ".py",
   "mimetype": "text/x-python",
   "name": "python",
   "nbconvert_exporter": "python",
   "pygments_lexer": "ipython3",
   "version": "3.10.12"
  }
 },
 "nbformat": 4,
 "nbformat_minor": 5
}
