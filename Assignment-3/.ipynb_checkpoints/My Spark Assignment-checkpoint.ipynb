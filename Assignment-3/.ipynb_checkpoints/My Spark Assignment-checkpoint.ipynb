{
 "cells": [
  {
   "cell_type": "markdown",
   "id": "b0da03b6",
   "metadata": {},
   "source": [
    "You can use this notebook to develop your answers. Make sure to look at intermediate results using `take()` for debugging."
   ]
  },
  {
   "cell_type": "code",
   "execution_count": 1,
   "id": "0a62f9a2",
   "metadata": {},
   "outputs": [],
   "source": [
    "import json\n",
    "import re\n",
    "import csv\n",
    "from io import StringIO\n",
    "\n",
    "## Load data into RDDs\n",
    "usersRDD = sc.textFile(\"datafiles/se_users.json\").map(json.loads)\n",
    "postsRDD = sc.textFile(\"datafiles/se_posts.json\").map(json.loads)\n",
    "playRDD = sc.textFile(\"datafiles/play.txt\")\n",
    "logsRDD = sc.textFile(\"datafiles/NASA_logs_sample.txt\")\n",
    "nobelRDD = sc.textFile(\"datafiles/prize.json\").map(json.loads)\n"
   ]
  },
  {
   "cell_type": "code",
   "execution_count": 2,
   "id": "073cbfb9",
   "metadata": {},
   "outputs": [
    {
     "name": "stderr",
     "output_type": "stream",
     "text": [
      "\r",
      "[Stage 0:>                                                          (0 + 1) / 1]\r"
     ]
    },
    {
     "name": "stdout",
     "output_type": "stream",
     "text": [
      "{'id': -1, 'reputation': 1, 'creationdate': '2011-01-03', 'displayname': 'Community', 'views': 863, 'upvotes': 12299, 'downvotes': 8651}\n",
      "{'id': 2, 'reputation': 101, 'creationdate': '2011-01-03', 'displayname': 'Geoff Dalgas', 'views': 64, 'upvotes': 10, 'downvotes': 0}\n",
      "{'id': 3, 'reputation': 101, 'creationdate': '2011-01-03', 'displayname': 'balpha', 'views': 35, 'upvotes': 4, 'downvotes': 0}\n",
      "{'id': 4, 'reputation': 212, 'creationdate': '2011-01-03', 'displayname': 'Nick Craver', 'views': 61, 'upvotes': 11, 'downvotes': 1}\n",
      "{'id': 5, 'reputation': 101, 'creationdate': '2011-01-03', 'displayname': 'Emmett', 'views': 32, 'upvotes': 2, 'downvotes': 0}\n",
      "{'id': 6, 'reputation': 100, 'creationdate': '2011-01-03', 'displayname': 'Robert Cartaino', 'views': 36, 'upvotes': 0, 'downvotes': 2}\n",
      "{'id': 7, 'reputation': 1128, 'creationdate': '2011-01-03', 'displayname': 'Toby', 'views': 69, 'upvotes': 18, 'downvotes': 0}\n",
      "{'id': 8, 'reputation': 2949, 'creationdate': '2011-01-03', 'displayname': 'ilhan', 'views': 142, 'upvotes': 12, 'downvotes': 0}\n",
      "{'id': 9, 'reputation': 101, 'creationdate': '2011-01-03', 'displayname': 'Humpton', 'views': 12, 'upvotes': 7, 'downvotes': 0}\n",
      "{'id': 10, 'reputation': 175, 'creationdate': '2011-01-03', 'displayname': 'Kim', 'views': 27, 'upvotes': 1, 'downvotes': 1}\n"
     ]
    },
    {
     "name": "stderr",
     "output_type": "stream",
     "text": [
      "\r",
      "                                                                                \r"
     ]
    }
   ],
   "source": [
    "for t in usersRDD.take(10): print(t)"
   ]
  },
  {
   "cell_type": "code",
   "execution_count": 3,
   "id": "e183aa31",
   "metadata": {},
   "outputs": [
    {
     "name": "stdout",
     "output_type": "stream",
     "text": [
      "['1', 'Toy Story (1995)', 'Adventure|Animation|Children|Comedy|Fantasy']\n",
      "['2', 'Jumanji (1995)', 'Adventure|Children|Fantasy']\n",
      "['3', 'Grumpier Old Men (1995)', 'Comedy|Romance']\n",
      "['4', 'Waiting to Exhale (1995)', 'Comedy|Drama|Romance']\n",
      "['5', 'Father of the Bride Part II (1995)', 'Comedy']\n",
      "['6', 'Heat (1995)', 'Action|Crime|Thriller']\n",
      "['7', 'Sabrina (1995)', 'Comedy|Romance']\n",
      "['8', 'Tom and Huck (1995)', 'Adventure|Children']\n",
      "['9', 'Sudden Death (1995)', 'Action']\n",
      "['10', 'GoldenEye (1995)', 'Action|Adventure|Thriller']\n",
      "['11', 'American President, The (1995)', 'Comedy|Drama|Romance']\n"
     ]
    }
   ],
   "source": [
    "    def parse_csv(line):\n",
    "        reader = csv.reader(StringIO(line))\n",
    "        return next(reader)\n",
    "\n",
    "    # Let's make RDDs for the Movie Lens Files \n",
    "    csvData1 = sc.textFile(\"datafiles/ml-latest-small/movies.csv\")\n",
    "\n",
    "    # This complicated command is needed to skip the header row using sparkContext\n",
    "    moviesRDD = csvData1.zipWithIndex().filter(lambda line: line[1] != 0).map(lambda line: line[0]).map(parse_csv)\n",
    "\n",
    "    for t in moviesRDD.take(11): print(t)"
   ]
  },
  {
   "cell_type": "code",
   "execution_count": 4,
   "id": "3df5d43a",
   "metadata": {},
   "outputs": [
    {
     "name": "stdout",
     "output_type": "stream",
     "text": [
      "['1', '1', '4.0']\n",
      "['1', '3', '4.0']\n",
      "['1', '6', '4.0']\n",
      "['1', '47', '5.0']\n",
      "['1', '50', '5.0']\n",
      "['1', '70', '3.0']\n",
      "['1', '101', '5.0']\n",
      "['1', '110', '4.0']\n",
      "['1', '151', '5.0']\n",
      "['1', '157', '5.0']\n"
     ]
    }
   ],
   "source": [
    "# For ratings, we will skip the timestamp for simplicity\n",
    "csvData2 = sc.textFile(\"datafiles/ml-latest-small/ratings.csv\")\n",
    "ratingsRDD = csvData2.zipWithIndex().filter(lambda line: line[1] != 0).map(lambda line: line[0].split(\",\")[0:3])\n",
    "        \n",
    "for t in ratingsRDD.take(10): print(t)"
   ]
  },
  {
   "cell_type": "code",
   "execution_count": 5,
   "id": "dd5234ab",
   "metadata": {},
   "outputs": [
    {
     "name": "stdout",
     "output_type": "stream",
     "text": [
      "[{'id': 2, 'posttypeid': 1, 'title': 'How can a group track database schema changes?', 'acceptedanswerid': 4, 'parentid': None, 'creationdate': '2011-01-03', 'score': 68, 'viewcount': 11533, 'owneruserid': 7, 'lasteditoruserid': 97, 'tags': '<mysql><version-control><schema>'}]\n"
     ]
    }
   ],
   "source": [
    "print(postsRDD.take(1))"
   ]
  },
  {
   "cell_type": "code",
   "execution_count": 7,
   "id": "55659200",
   "metadata": {},
   "outputs": [
    {
     "name": "stdout",
     "output_type": "stream",
     "text": [
      "[(2, 'How can a group track database schema changes?', 7, 11533), (5, 'What are the differences between NoSQL and a traditional RDBMS?', 24, 42961), (20, 'How can I optimize a mysqldump of a large database?', 43, 266614)]\n"
     ]
    }
   ],
   "source": [
    "t1 = postsRDD.filter(lambda t: t['owneruserid'] is not None and t['viewcount'] is not None and t['viewcount'] >= 10000).map(lambda t: (t['id'], t['title'], t['owneruserid'], t['viewcount']))\n",
    "print(t1.takeOrdered(3))"
   ]
  },
  {
   "cell_type": "code",
   "execution_count": null,
   "id": "6ba21c58",
   "metadata": {},
   "outputs": [],
   "source": [
    "t2 = moviesRDD.flatMap(lambda t: [(t[0], x) for x in t[2].split('|')])\n",
    "print(t2.take(10))"
   ]
  },
  {
   "cell_type": "code",
   "execution_count": null,
   "id": "d6778902",
   "metadata": {},
   "outputs": [],
   "source": [
    "import re\n",
    "t3 = moviesRDD.filter(lambda t: re.search(r'\\((\\d{4})\\)', t[1]) is not None).map(lambda t: (re.search(r'\\((\\d{4})\\)', t[1]).group(1), t[2])).flatMap(lambda t: [((t[0], x), 1) for x in t[1].split('|')]).reduceByKey(lambda a, b: a + b)\n",
    "print(t3.take(10))"
   ]
  },
  {
   "cell_type": "code",
   "execution_count": null,
   "id": "2255a2d5",
   "metadata": {},
   "outputs": [],
   "source": [
    "temp_t4 = moviesRDD.map(lambda t: (t[0], t[2]))\n",
    "t4 = ratingsRDD.map(lambda t: (t[0], t[1])).join(temp_t4) \\\n",
    "          .map(lambda t: (t[1][0], t[1][1].split('|'))) \\\n",
    "          .reduceByKey(lambda a, b: sorted(set(a + b))[:2]) \n",
    "print(t4.take(10))"
   ]
  },
  {
   "cell_type": "raw",
   "id": "bbe11a68",
   "metadata": {},
   "source": []
  },
  {
   "cell_type": "code",
   "execution_count": null,
   "id": "035aa085",
   "metadata": {},
   "outputs": [],
   "source": [
    "def f(t):\n",
    "        return [((x, y), 1) for x in re.sub(r'[,\\(\\):]', '', t[1]).split() for y in t[2].split('|')]\n",
    "\n",
    "t5 = moviesRDD.flatMap(f).reduceByKey(lambda x, y: x+y)\n",
    "print(t5.take(10))"
   ]
  },
  {
   "cell_type": "code",
   "execution_count": null,
   "id": "dae576dd",
   "metadata": {},
   "outputs": [],
   "source": [
    "t6 = postsRDD.filter(lambda t: t['tags'] is not None and t['owneruserid'] is not None).\\\n",
    "             flatMap(lambda t: [((t['owneruserid'], x), 1) for x in t['tags'][1:-1].split('><')]). \\\n",
    "             reduceByKey(lambda a, b: a+b)\n",
    "print(t6.filter(lambda t: t[0][0] == 7).take(10))"
   ]
  },
  {
   "cell_type": "code",
   "execution_count": null,
   "id": "ab974eb4",
   "metadata": {},
   "outputs": [],
   "source": [
    "t7 = ratingsRDD.map(lambda t: (t[0], float(t[2]))).aggregateByKey((0, 0), \\\n",
    "                        lambda x, y: (x[0] + y, x[1] + 1), \n",
    "                        lambda x, y: (x[0] + y[0], x[1] + y[1])).map(lambda x: (x[0], x[1][0]/x[1][1]))\n",
    "print(t7.take(10))"
   ]
  },
  {
   "cell_type": "code",
   "execution_count": null,
   "id": "0baa8eb2",
   "metadata": {},
   "outputs": [],
   "source": [
    "def computemode(arr):\n",
    "        arr = list(arr)\n",
    "        maxcount = max([arr.count(x) for x in set(arr)])\n",
    "        for x in ['5.0', '4.0', '3.0', '2.0', '1.0']:\n",
    "            if arr.count(x) == maxcount:\n",
    "                return x\n",
    "t8 = ratingsRDD.map(lambda t: (t[1], t[2])).groupByKey().mapValues(computemode)\n",
    "print(t8.take(10))"
   ]
  },
  {
   "cell_type": "code",
   "execution_count": null,
   "id": "42220827",
   "metadata": {},
   "outputs": [],
   "source": [
    "pattern = r'\\[(?:\\d{2})/.../\\d{4}:(\\d{2}):\\d{2}:\\d{2} -\\d{4}\\]'\n",
    "t9 = logsRDD.map(lambda l: (int(re.search(pattern, l).group(1)), 1)).reduceByKey(lambda x, y: x+y)\n",
    "print(t9.take(10))"
   ]
  },
  {
   "cell_type": "code",
   "execution_count": null,
   "id": "40f693f5",
   "metadata": {},
   "outputs": [],
   "source": [
    "def task10_flatmap(line):\n",
    "    stop_words = {'is', 'the', 'in', 's'}\n",
    "    expansions = {\"is't\": \"is it\", \"'twere\": \"it were\", \"'tis\": \"it is\"}\n",
    "\n",
    "    line = line.lower()\n",
    "    \n",
    "    for word, expansion in expansions.items():\n",
    "        line = line.replace(word, expansion)\n",
    "    \n",
    "    line = re.sub(r'\\W+', ' ', line)\n",
    "    \n",
    "    return [word for word in line.split() if word not in stop_words]\n",
    "\n",
    "t10 = playRDD.flatMap(task10_flatmap)\n",
    "print(t10.take(15))"
   ]
  },
  {
   "cell_type": "code",
   "execution_count": null,
   "id": "934526e0",
   "metadata": {},
   "outputs": [],
   "source": [
    "t11 = postsRDD.filter(lambda t: t['owneruserid'] is not None) \\\n",
    "              .map(lambda t: (t['owneruserid'], (1, t['score']))) \\\n",
    "              .reduceByKey(lambda a, b: (a[0] + b[0], a[1]+b[1])) \\\n",
    "              .filter(lambda x: x[1][0] >= 50 and x[1][1] < x[1][0] * 10) \\\n",
    "              .map(lambda t: (t[0], t[1][0], t[1][1]/t[1][0]))\n",
    "\n",
    "print(t11.take(3))"
   ]
  },
  {
   "cell_type": "code",
   "execution_count": null,
   "id": "7d831be8",
   "metadata": {},
   "outputs": [],
   "source": [
    "def jaccard(set_a, set_b):\n",
    "    # Calculate the intersection of sets\n",
    "    intersection = len(set_a.intersection(set_b))\n",
    "    # Calculate the union of sets\n",
    "    union = len(set_a.union(set_b))\n",
    "    # Compute the Jaccard coefficient\n",
    "    jaccard = intersection / union if union != 0 else 0\n",
    "    return jaccard\n",
    "\n",
    "t15_1 = ratingsRDD.filter(lambda t: int(t[0]) <= 100).map(lambda t: (t[0], t[1])).groupByKey().map(lambda l: (l[0], list(l[1])))\n",
    "t15_2 = t15_1.cartesian(t15_1).filter(lambda t: t[0][0] != t[1][0]).map(lambda t: (t[0][0], (t[1][0], jaccard(set(t[0][1]), set(t[1][1])))))\n",
    "t15_3 = t15_2.reduceByKey(lambda a, b: a if a[1] > b[1] else b)\n",
    "\n",
    "print(t15_3.take(100))"
   ]
  },
  {
   "cell_type": "code",
   "execution_count": null,
   "id": "fb2fc942",
   "metadata": {},
   "outputs": [],
   "source": []
  }
 ],
 "metadata": {
  "kernelspec": {
   "display_name": "Python 3 (ipykernel)",
   "language": "python",
   "name": "python3"
  },
  "language_info": {
   "codemirror_mode": {
    "name": "ipython",
    "version": 3
   },
   "file_extension": ".py",
   "mimetype": "text/x-python",
   "name": "python",
   "nbconvert_exporter": "python",
   "pygments_lexer": "ipython3",
   "version": "3.10.12"
  }
 },
 "nbformat": 4,
 "nbformat_minor": 5
}
